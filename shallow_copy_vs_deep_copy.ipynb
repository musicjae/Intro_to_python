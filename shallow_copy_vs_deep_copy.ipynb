{
  "nbformat": 4,
  "nbformat_minor": 0,
  "metadata": {
    "colab": {
      "name": "shallow copy vs deep copy.ipynb",
      "provenance": [],
      "authorship_tag": "ABX9TyN8F9EOY5Kcxv4SrfsUZgPv",
      "include_colab_link": true
    },
    "kernelspec": {
      "name": "python3",
      "display_name": "Python 3"
    }
  },
  "cells": [
    {
      "cell_type": "markdown",
      "metadata": {
        "id": "view-in-github",
        "colab_type": "text"
      },
      "source": [
        "<a href=\"https://colab.research.google.com/github/musicjae/intro_to_python/blob/master/shallow_copy_vs_deep_copy.ipynb\" target=\"_parent\"><img src=\"https://colab.research.google.com/assets/colab-badge.svg\" alt=\"Open In Colab\"/></a>"
      ]
    },
    {
      "cell_type": "code",
      "metadata": {
        "id": "I_wCirU0JJ_S"
      },
      "source": [
        "# importing copy module \n",
        "import copy \n",
        "  \n",
        "# initializing list 1  \n",
        "li1 = [1, 2, [3,5], 4] \n",
        "  \n",
        "  \n",
        "# using copy for shallow copy   \n",
        "li2 = copy.copy(li1)  \n",
        "  \n",
        "# using deepcopy for deepcopy   \n",
        "li3 = copy.deepcopy(li1)"
      ],
      "execution_count": 19,
      "outputs": []
    },
    {
      "cell_type": "markdown",
      "metadata": {
        "id": "CEn3-74NYPjE"
      },
      "source": [
        "어떤 카피 방식을 사용하든지 간에, 모두의 주소는 다 다르다."
      ]
    },
    {
      "cell_type": "code",
      "metadata": {
        "id": "4u2TE_UzFtIP",
        "outputId": "39077952-19d6-4994-fa02-40945fc85d28",
        "colab": {
          "base_uri": "https://localhost:8080/",
          "height": 85
        }
      },
      "source": [
        "test = [1,2,3,[4,5,6],7,8]\n",
        "\n",
        "import copy\n",
        "\n",
        "copy1 = test\n",
        "shallow_copy = copy.copy(test)\n",
        "deep_copy = copy.deepcopy(test)\n",
        "\n",
        "print(id(copy1))\n",
        "print(id(shallow_copy))\n",
        "print(id(deep_copy))\n",
        "\n",
        "if id(copy1) != id(shallow_copy) or id(copy1)!= id(deep_copy) or id(shallow_copy) != id(deep_copy):\n",
        "    print('All are not same')"
      ],
      "execution_count": 23,
      "outputs": [
        {
          "output_type": "stream",
          "text": [
            "140519616013448\n",
            "140519615715848\n",
            "140519746782792\n",
            "All are not same\n"
          ],
          "name": "stdout"
        }
      ]
    },
    {
      "cell_type": "markdown",
      "metadata": {
        "id": "03AE7TlHJcii"
      },
      "source": [
        "### Deep Copy  vs shallow copt\n",
        "\n",
        "- Deep copy\n",
        "  \n",
        "> 이것은 복사 과정이 재귀적으로 나타난다.  \n",
        "  (1) new collection 만듦  \n",
        "  (2) 원래의 collection에 있는 child object의 복사본을 새 collection에 둔다.  \n",
        "   \n",
        "  => 이 딥카피는 복사본에 대한 어떤 변경도 원본에 영향을 끼치지 않게 하기 위해 사용한다."
      ]
    },
    {
      "cell_type": "code",
      "metadata": {
        "id": "HoEoUblgJcO6",
        "outputId": "b3e713da-4c38-44e5-c385-bdad626234eb",
        "colab": {
          "base_uri": "https://localhost:8080/",
          "height": 204
        }
      },
      "source": [
        "print('original: ',test)\n",
        "print('initial shallowcopy',shallow_copy)\n",
        "print('initial deepcopy: ',deep_copy)\n",
        "deep_copy[3][1]=21\n",
        "print('\\nmodified deepcopy: ', deep_copy)\n",
        "print('original: ',test)\n",
        "if deep_copy[3][1] != test[3][1]:\n",
        "    print('not same')\n",
        "shallow_copy[3][1] = 11\n",
        "print('\\nmodified shallowcopy: ', shallow_copy)\n",
        "print('original: ',test)\n",
        "\n",
        "if shallow_copy[3][1]!=test[3][1]:\n",
        "    print('not same')\n",
        "else:\n",
        "    print('same')\n",
        "\n"
      ],
      "execution_count": 26,
      "outputs": [
        {
          "output_type": "stream",
          "text": [
            "original:  [1, 2, 3, [4, 11, 6], 7, 8]\n",
            "initial shallowcopy [11, 2, 3, [4, 11, 6], 7, 8]\n",
            "initial deepcopy:  [21, 2, 3, [4, 21, 6], 7, 8]\n",
            "\n",
            "modified deepcopy:  [21, 2, 3, [4, 21, 6], 7, 8]\n",
            "original:  [1, 2, 3, [4, 11, 6], 7, 8]\n",
            "not same\n",
            "\n",
            "modified shallowcopy:  [11, 2, 3, [4, 11, 6], 7, 8]\n",
            "original:  [1, 2, 3, [4, 11, 6], 7, 8]\n",
            "same\n"
          ],
          "name": "stdout"
        }
      ]
    },
    {
      "cell_type": "markdown",
      "metadata": {
        "id": "wRUhb3V-X4rz"
      },
      "source": [
        "딥카피와 얕은 카피의 차이는 위와 같다. 이것은 복합객체compond object (한 객체 내에 포함된 객체)가 변하는지 여부만 다르다. 단순 객체의 변화 여부는 둘다 동일하다. "
      ]
    }
  ]
}