{
  "nbformat": 4,
  "nbformat_minor": 0,
  "metadata": {
    "colab": {
      "name": "lambda.ipynb",
      "provenance": [],
      "authorship_tag": "ABX9TyMjfn9BPlo0T/Hi3/cUloxD",
      "include_colab_link": true
    },
    "kernelspec": {
      "name": "python3",
      "display_name": "Python 3"
    }
  },
  "cells": [
    {
      "cell_type": "markdown",
      "metadata": {
        "id": "view-in-github",
        "colab_type": "text"
      },
      "source": [
        "<a href=\"https://colab.research.google.com/github/musicjae/intro_to_python/blob/master/lambda.ipynb\" target=\"_parent\"><img src=\"https://colab.research.google.com/assets/colab-badge.svg\" alt=\"Open In Colab\"/></a>"
      ]
    },
    {
      "cell_type": "markdown",
      "metadata": {
        "id": "zj_YgGMd5yZq",
        "colab_type": "text"
      },
      "source": [
        "람다는 필요한 곳에서만 즉시 쓰고 폐기하는 함수라고 이해될 수 있다."
      ]
    },
    {
      "cell_type": "code",
      "metadata": {
        "id": "bOhjBwsw5yip",
        "colab_type": "code",
        "colab": {
          "base_uri": "https://localhost:8080/",
          "height": 34
        },
        "outputId": "88e5fce6-4a7f-400a-fc6b-5c36d0e3c6ba"
      },
      "source": [
        "p = lambda x: x+2\n",
        "p(2)"
      ],
      "execution_count": 1,
      "outputs": [
        {
          "output_type": "execute_result",
          "data": {
            "text/plain": [
              "4"
            ]
          },
          "metadata": {
            "tags": []
          },
          "execution_count": 1
        }
      ]
    },
    {
      "cell_type": "code",
      "metadata": {
        "id": "dHHE1-qx5voB",
        "colab_type": "code",
        "colab": {
          "base_uri": "https://localhost:8080/",
          "height": 34
        },
        "outputId": "3453efab-3c0a-4cd1-fd08-973b3eec42d8"
      },
      "source": [
        "p = lambda x,y: x+y \n",
        "p(2,4)"
      ],
      "execution_count": 2,
      "outputs": [
        {
          "output_type": "execute_result",
          "data": {
            "text/plain": [
              "6"
            ]
          },
          "metadata": {
            "tags": []
          },
          "execution_count": 2
        }
      ]
    },
    {
      "cell_type": "markdown",
      "metadata": {
        "id": "e_-7APug6aVR",
        "colab_type": "text"
      },
      "source": [
        "엄청 편하다.. 이것을 배우면 이제부터는 def 로 함수를 만들어서 코드를 불필요하게 짜지 않아도 된다."
      ]
    },
    {
      "cell_type": "markdown",
      "metadata": {
        "id": "o_dRQP-i7Fr0",
        "colab_type": "text"
      },
      "source": [
        "# 응용"
      ]
    },
    {
      "cell_type": "markdown",
      "metadata": {
        "id": "HMfy87xW6xwy",
        "colab_type": "text"
      },
      "source": [
        "## map()  \n",
        "  \n",
        "이 함수는 2 개의 인자를 갖는다.  \n",
        "  \n",
        "    \n",
        "     r = map(function, iterable, ...)\n",
        "\n"
      ]
    },
    {
      "cell_type": "code",
      "metadata": {
        "id": "mxr1Wqb_6z9R",
        "colab_type": "code",
        "colab": {
          "base_uri": "https://localhost:8080/",
          "height": 34
        },
        "outputId": "e99ff9bf-56f1-4eb7-cec5-5519cc759484"
      },
      "source": [
        "a = [1,2,3]\n",
        "b=[4,5,6]\n",
        "mapping=list(map(lambda x,y: 2*x*y,a,b))\n",
        "print(mapping)"
      ],
      "execution_count": 4,
      "outputs": [
        {
          "output_type": "stream",
          "text": [
            "[8, 20, 36]\n"
          ],
          "name": "stdout"
        }
      ]
    },
    {
      "cell_type": "code",
      "metadata": {
        "id": "6dEgySp87V3c",
        "colab_type": "code",
        "colab": {
          "base_uri": "https://localhost:8080/",
          "height": 34
        },
        "outputId": "1904c950-eb0f-438d-fe54-bd5839470926"
      },
      "source": [
        "a = [1,2,3]\n",
        "b=[]\n",
        "mapping=list(map(lambda x,y: 2*x*y,a,b))\n",
        "print(mapping)"
      ],
      "execution_count": 8,
      "outputs": [
        {
          "output_type": "stream",
          "text": [
            "[]\n"
          ],
          "name": "stdout"
        }
      ]
    },
    {
      "cell_type": "markdown",
      "metadata": {
        "id": "0vn60zsQ7p_M",
        "colab_type": "text"
      },
      "source": [
        "## filter()  \n",
        "  \n",
        "역시 2 개의 인자를 갖는다.  \n",
        "  "
      ]
    },
    {
      "cell_type": "markdown",
      "metadata": {
        "id": "1NE6aZ9X7ybM",
        "colab_type": "text"
      },
      "source": [
        "filter(function, iterable)\n",
        "\n",
        "\n",
        "\n",
        "Construct an iterator from those elements of iterable for which function returns true. iterable may be either a sequence, a container which supports iteration, or an iterator. If function is None, the identity function is assumed, that is, all elements of iterable that are false are removed.\n",
        "\n",
        "\n",
        "\n",
        "출처: https://bluese05.tistory.com/66 [ㅍㅍㅋㄷ]"
      ]
    },
    {
      "cell_type": "markdown",
      "metadata": {
        "id": "0p_WQ5zO8wt1",
        "colab_type": "text"
      },
      "source": [
        "간단히 이해하자면, 특정 조건을 만족하는 함숫값만 산출하는 함수인 것 같다. 아래 코드를 보자."
      ]
    },
    {
      "cell_type": "code",
      "metadata": {
        "id": "eFz8MyWh7x6c",
        "colab_type": "code",
        "colab": {
          "base_uri": "https://localhost:8080/",
          "height": 34
        },
        "outputId": "d9124caa-0896-48e0-a9f6-ce5718176a28"
      },
      "source": [
        "a= [10,21,30]\n",
        "\n",
        "\n",
        "filtering = list(filter(lambda x: x%5==0, a))\n",
        "print(filtering)"
      ],
      "execution_count": 12,
      "outputs": [
        {
          "output_type": "stream",
          "text": [
            "[10, 30]\n"
          ],
          "name": "stdout"
        }
      ]
    },
    {
      "cell_type": "markdown",
      "metadata": {
        "id": "2VsyN5VQ86A6",
        "colab_type": "text"
      },
      "source": [
        "위 결과에서 나타나듯, 5로 나눠떨어지는 a의 요소만 필터링되어 산출된다."
      ]
    },
    {
      "cell_type": "markdown",
      "metadata": {
        "id": "QsEee_vw6o-v",
        "colab_type": "text"
      },
      "source": [
        "References  \n",
        "[1] https://offbyone.tistory.com/73"
      ]
    }
  ]
}