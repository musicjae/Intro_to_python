{
  "nbformat": 4,
  "nbformat_minor": 0,
  "metadata": {
    "colab": {
      "name": "3 class.ipynb",
      "provenance": [],
      "authorship_tag": "ABX9TyPeIIgzHD60DtQzSfnjpZdC",
      "include_colab_link": true
    },
    "kernelspec": {
      "name": "python3",
      "display_name": "Python 3"
    }
  },
  "cells": [
    {
      "cell_type": "markdown",
      "metadata": {
        "id": "view-in-github",
        "colab_type": "text"
      },
      "source": [
        "<a href=\"https://colab.research.google.com/github/musicjae/intro_to_python/blob/master/levelup/3_class.ipynb\" target=\"_parent\"><img src=\"https://colab.research.google.com/assets/colab-badge.svg\" alt=\"Open In Colab\"/></a>"
      ]
    },
    {
      "cell_type": "markdown",
      "metadata": {
        "id": "uOSGVs2T-IA1"
      },
      "source": [
        "https://wikidocs.net/70861"
      ]
    },
    {
      "cell_type": "markdown",
      "metadata": {
        "id": "lCBAsYIw_57H"
      },
      "source": [
        "## 클래스와 그것의 변수 간 차이"
      ]
    },
    {
      "cell_type": "markdown",
      "metadata": {
        "id": "7N_4mYjN-dXa"
      },
      "source": [
        "클래스 생성 시, 클래스 이름은 클래스 객체를 바인딩하고, 그것의 변수인 p는 그 클래스 타입의 객체를 바인딩한다. 아래 출력에서 각각 id가 다르다는 것에 주목하라."
      ]
    },
    {
      "cell_type": "code",
      "metadata": {
        "colab": {
          "base_uri": "https://localhost:8080/"
        },
        "id": "ZoiDycif-Fp-",
        "outputId": "af73ba8f-3657-4199-f764-26e41c82561d"
      },
      "source": [
        "class Person:\r\n",
        "    pass\r\n",
        "\r\n",
        "p = Person()\r\n",
        "print(id(p))\r\n",
        "print(id(Person()))"
      ],
      "execution_count": 4,
      "outputs": [
        {
          "output_type": "stream",
          "text": [
            "140340676485304\n",
            "140340685350728\n"
          ],
          "name": "stdout"
        }
      ]
    },
    {
      "cell_type": "markdown",
      "metadata": {
        "id": "dEYDofGw_iAs"
      },
      "source": [
        "클래스 객체를 바인딩한 변수에 .을 붙인 뒤, data에 3을 넣으면, 클래스 자체의 객체가 아닌 그 바인딩한 변수가 가리키는 객체에 3이 저장된다."
      ]
    },
    {
      "cell_type": "code",
      "metadata": {
        "colab": {
          "base_uri": "https://localhost:8080/"
        },
        "id": "xLCdjN22-1ac",
        "outputId": "b54339e4-1ee5-4087-bf83-bd0dae1c78da"
      },
      "source": [
        "class Person:\r\n",
        "    pass\r\n",
        "\r\n",
        "p = Person()\r\n",
        "print(p)\r\n",
        "p.data=3\r\n",
        "print(p.data)"
      ],
      "execution_count": 8,
      "outputs": [
        {
          "output_type": "stream",
          "text": [
            "<__main__.Person object at 0x7fa39c1c43c8>\n",
            "3\n"
          ],
          "name": "stdout"
        }
      ]
    },
    {
      "cell_type": "markdown",
      "metadata": {
        "id": "NHBh2WZJ_wGc"
      },
      "source": [
        "반면에, 클래스 내에서 data에 4를 넣으면, 그 클래스 자체의 객체 내에 4가 저장된다."
      ]
    },
    {
      "cell_type": "code",
      "metadata": {
        "colab": {
          "base_uri": "https://localhost:8080/"
        },
        "id": "X3rb3d33_tlQ",
        "outputId": "fc7e409e-f784-4c1b-af7a-60a5b3b7283b"
      },
      "source": [
        "class Person:\r\n",
        "    data = 4\r\n",
        "\r\n",
        "p = Person()\r\n",
        "print(p.data)"
      ],
      "execution_count": 11,
      "outputs": [
        {
          "output_type": "stream",
          "text": [
            "4\n"
          ],
          "name": "stdout"
        }
      ]
    },
    {
      "cell_type": "markdown",
      "metadata": {
        "id": "2oPqzxVS_18O"
      },
      "source": [
        "## 생성자"
      ]
    },
    {
      "cell_type": "markdown",
      "metadata": {
        "id": "A0LBkakcAKf7"
      },
      "source": [
        "- 생성자:  특별한 이름(__init__)을 갖기만 하면 객체가 생성될 때 자동으로 호출되는 함수  \r\n",
        "  - 이 생성자는 클래스 자체의 객체 내에 저장된다."
      ]
    },
    {
      "cell_type": "code",
      "metadata": {
        "colab": {
          "base_uri": "https://localhost:8080/"
        },
        "id": "TaZqQ5jE_-yd",
        "outputId": "09883123-ca9f-4895-90fe-6f0be2d93302"
      },
      "source": [
        "class test:\r\n",
        "    def __init__(self):\r\n",
        "        print('Testing.....')\r\n",
        "\r\n",
        "t = test()"
      ],
      "execution_count": 14,
      "outputs": [
        {
          "output_type": "stream",
          "text": [
            "Testing.....\n"
          ],
          "name": "stdout"
        }
      ]
    },
    {
      "cell_type": "markdown",
      "metadata": {
        "id": "eupCmeQNA9RD"
      },
      "source": [
        "## 인스턴스 개수 세기  \r\n"
      ]
    },
    {
      "cell_type": "code",
      "metadata": {
        "colab": {
          "base_uri": "https://localhost:8080/"
        },
        "id": "6VO9LxaRA_aG",
        "outputId": "493358e7-c843-4528-8899-d28eb11a3c79"
      },
      "source": [
        "class customcls:\r\n",
        "\r\n",
        "    count = 0\r\n",
        "\r\n",
        "    def __init__(self):\r\n",
        "        \r\n",
        "        customcls.count += 1\r\n",
        "\r\n",
        "    def getcount(self):\r\n",
        "\r\n",
        "        return customcls.count\r\n",
        "\r\n",
        "a = customcls()\r\n",
        "b = customcls()\r\n",
        "c = customcls()\r\n",
        "\r\n",
        "print(customcls.count)"
      ],
      "execution_count": 23,
      "outputs": [
        {
          "output_type": "stream",
          "text": [
            "3\n"
          ],
          "name": "stdout"
        }
      ]
    },
    {
      "cell_type": "markdown",
      "metadata": {
        "id": "HX6AYvSYDVqC"
      },
      "source": [
        "## 매직 메소드"
      ]
    },
    {
      "cell_type": "markdown",
      "metadata": {
        "id": "zS2EFkhKDXKa"
      },
      "source": [
        "- 파이썬에서 함수의 호출은 함수의 이름에 '( )'를 붙여주면 됩니다.  \r\n",
        "-  어떤 클래스(타입)의 객체가 있을 때 '( )'를 붙여주면 해당 클래스에 정의된 매직 메소드인 __call__이 호출됩니다."
      ]
    },
    {
      "cell_type": "code",
      "metadata": {
        "colab": {
          "base_uri": "https://localhost:8080/"
        },
        "id": "IOKTL2S-DWqE",
        "outputId": "bad7d4cd-d88c-44e5-a985-156fb6c775b7"
      },
      "source": [
        "class customfn:\r\n",
        "    def __call__(self, *args, **kwargs):\r\n",
        "        print('호출 예를 보여준다')\r\n",
        "\r\n",
        "f=customfn()\r\n",
        "print(id(customfn()))\r\n",
        "print(id(f())) # 클래스 자체와  그것의 바인딩된 변수인 f 둘은 다른 객체를 지칭한다.\r\n",
        "f() # call"
      ],
      "execution_count": 25,
      "outputs": [
        {
          "output_type": "stream",
          "text": [
            "140340675857824\n",
            "호출 예를 보여준다\n",
            "10306432\n",
            "호출 예를 보여준다\n"
          ],
          "name": "stdout"
        }
      ]
    },
    {
      "cell_type": "markdown",
      "metadata": {
        "id": "rvX3yhF8D92e"
      },
      "source": [
        "클래스를 바인딩하고 있는 변수에 점.을 찍으면 그 클래스의 __getattribute__ 메소드를 호출"
      ]
    },
    {
      "cell_type": "code",
      "metadata": {
        "colab": {
          "base_uri": "https://localhost:8080/"
        },
        "id": "8i-DPTc4EeXo",
        "outputId": "1a1d87df-d381-452a-a3a3-f4636df1f8cb"
      },
      "source": [
        "class customfn2:\r\n",
        "    def __getattribute__(self,item):\r\n",
        "        print(item,'access')\r\n",
        "    \r\n",
        "cc = customfn2()\r\n",
        "print(cc)\r\n",
        "print(id(cc))\r\n",
        "\r\n",
        "cc.item\r\n",
        "cc.data"
      ],
      "execution_count": 29,
      "outputs": [
        {
          "output_type": "stream",
          "text": [
            "<__main__.customfn2 object at 0x7fa394350390>\n",
            "140340542899088\n",
            "item access\n",
            "data access\n"
          ],
          "name": "stdout"
        }
      ]
    }
  ]
}