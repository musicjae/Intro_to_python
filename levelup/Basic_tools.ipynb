{
  "nbformat": 4,
  "nbformat_minor": 0,
  "metadata": {
    "colab": {
      "name": "Basic_tools.ipynb",
      "provenance": [],
      "authorship_tag": "ABX9TyOMUHzxcLUIRuKz5+17ywYu",
      "include_colab_link": true
    },
    "kernelspec": {
      "name": "python3",
      "display_name": "Python 3"
    }
  },
  "cells": [
    {
      "cell_type": "markdown",
      "metadata": {
        "id": "view-in-github",
        "colab_type": "text"
      },
      "source": [
        "<a href=\"https://colab.research.google.com/github/musicjae/intro_to_python/blob/master/Basic_tools.ipynb\" target=\"_parent\"><img src=\"https://colab.research.google.com/assets/colab-badge.svg\" alt=\"Open In Colab\"/></a>"
      ]
    },
    {
      "cell_type": "markdown",
      "metadata": {
        "id": "M0tYNAr-XNTM",
        "colab_type": "text"
      },
      "source": [
        "# Matplotlib"
      ]
    },
    {
      "cell_type": "markdown",
      "metadata": {
        "id": "XsdZqP2SWC5q",
        "colab_type": "text"
      },
      "source": [
        "Matplotlib는 수식들을 시각화해주는 데 도움을 주는 도구이다."
      ]
    },
    {
      "cell_type": "code",
      "metadata": {
        "id": "7aUsgPm7VvMM",
        "colab_type": "code",
        "colab": {
          "base_uri": "https://localhost:8080/",
          "height": 282
        },
        "outputId": "8623015e-c70f-4022-9bd0-86daaccec0f7"
      },
      "source": [
        "import matplotlib.pyplot as plt\n",
        "\n",
        "plt.plot(range(10))"
      ],
      "execution_count": 1,
      "outputs": [
        {
          "output_type": "execute_result",
          "data": {
            "text/plain": [
              "[<matplotlib.lines.Line2D at 0x7fe4f1e5eef0>]"
            ]
          },
          "metadata": {
            "tags": []
          },
          "execution_count": 1
        },
        {
          "output_type": "display_data",
          "data": {
            "image/png": "[encoded data removed]",
            "text/plain": [
              "<Figure size 432x288 with 1 Axes>"
            ]
          },
          "metadata": {
            "tags": [],
            "needs_background": "light"
          }
        }
      ]
    },
    {
      "cell_type": "markdown",
      "metadata": {
        "id": "lq_4zM4cYCCm",
        "colab_type": "text"
      },
      "source": [
        "pandas는 넘파이에 최적화된 모듈이고, 시계열과 spreadsheet 스타일 자료 분석에 적합한 자료 구조의 모음을 제공한다. pandas는 원래 시계열 자료를 수행하기 위해 고안되었다. "
      ]
    },
    {
      "cell_type": "code",
      "metadata": {
        "id": "Gofxv0mfXa84",
        "colab_type": "code",
        "colab": {
          "base_uri": "https://localhost:8080/",
          "height": 119
        },
        "outputId": "bb06a225-f901-4bba-a377-8fdc2b23acf3"
      },
      "source": [
        "import pandas as pd\n",
        "\n",
        "x = pd.Series(index = range(5), data = [1,3,9,11,12])\n",
        "print(x)"
      ],
      "execution_count": 2,
      "outputs": [
        {
          "output_type": "stream",
          "text": [
            "0     1\n",
            "1     3\n",
            "2     9\n",
            "3    11\n",
            "4    12\n",
            "dtype: int64\n"
          ],
          "name": "stdout"
        }
      ]
    },
    {
      "cell_type": "code",
      "metadata": {
        "id": "7LqKFOhKYgRm",
        "colab_type": "code",
        "colab": {
          "base_uri": "https://localhost:8080/",
          "height": 136
        },
        "outputId": "6558b326-7fca-4020-b0a5-1d5687ba004f"
      },
      "source": [
        "x = pd.Series(index = ['a','b','c','d','e','f'], data = [1,3,9,11,12,13])\n",
        "print(x)"
      ],
      "execution_count": 7,
      "outputs": [
        {
          "output_type": "stream",
          "text": [
            "a     1\n",
            "b     3\n",
            "c     9\n",
            "d    11\n",
            "e    12\n",
            "f    13\n",
            "dtype: int64\n"
          ],
          "name": "stdout"
        }
      ]
    },
    {
      "cell_type": "code",
      "metadata": {
        "id": "hvXLQNK2ZCJY",
        "colab_type": "code",
        "colab": {
          "base_uri": "https://localhost:8080/",
          "height": 34
        },
        "outputId": "5e4b87a8-dbd4-43b5-f5c7-df92e7a837d1"
      },
      "source": [
        "print(x.a, x.c)"
      ],
      "execution_count": 9,
      "outputs": [
        {
          "output_type": "stream",
          "text": [
            "1 9\n"
          ],
          "name": "stdout"
        }
      ]
    },
    {
      "cell_type": "code",
      "metadata": {
        "id": "OAgOaN-NZGSZ",
        "colab_type": "code",
        "colab": {
          "base_uri": "https://localhost:8080/",
          "height": 85
        },
        "outputId": "9a2da025-a05e-4531-b79c-96670ef6988e"
      },
      "source": [
        "print(x.iloc[:3]) # 3 번째 요소까지 출력하라."
      ],
      "execution_count": 10,
      "outputs": [
        {
          "output_type": "stream",
          "text": [
            "a    1\n",
            "b    3\n",
            "c    9\n",
            "dtype: int64\n"
          ],
          "name": "stdout"
        }
      ]
    },
    {
      "cell_type": "markdown",
      "metadata": {
        "id": "M9b_iph3ZYJK",
        "colab_type": "text"
      },
      "source": [
        "## pandas에서 DataFrame"
      ]
    },
    {
      "cell_type": "code",
      "metadata": {
        "id": "1O9fmzhrZPF_",
        "colab_type": "code",
        "colab": {
          "base_uri": "https://localhost:8080/",
          "height": 102
        },
        "outputId": "a4b8360d-f71e-475b-eead-6e6e6fe7443f"
      },
      "source": [
        "df = pd.DataFrame({'col1': [1,3,11,2], 'col2': [9,23,0,2]})\n",
        "print(df)"
      ],
      "execution_count": 12,
      "outputs": [
        {
          "output_type": "stream",
          "text": [
            "   col1  col2\n",
            "0     1     9\n",
            "1     3    23\n",
            "2    11     0\n",
            "3     2     2\n"
          ],
          "name": "stdout"
        }
      ]
    },
    {
      "cell_type": "code",
      "metadata": {
        "id": "opNg8CofZvLl",
        "colab_type": "code",
        "colab": {
          "base_uri": "https://localhost:8080/",
          "height": 111
        },
        "outputId": "a7554d69-9e3b-47c8-f8bb-260535cd3db4"
      },
      "source": [
        "# sample particular list:\n",
        "\n",
        "df.iloc[:2,:2]\n"
      ],
      "execution_count": 14,
      "outputs": [
        {
          "output_type": "execute_result",
          "data": {
            "text/html": [
              "<div>\n",
              "<style scoped>\n",
              "    .dataframe tbody tr th:only-of-type {\n",
              "        vertical-align: middle;\n",
              "    }\n",
              "\n",
              "    .dataframe tbody tr th {\n",
              "        vertical-align: top;\n",
              "    }\n",
              "\n",
              "    .dataframe thead th {\n",
              "        text-align: right;\n",
              "    }\n",
              "</style>\n",
              "<table border=\"1\" class=\"dataframe\">\n",
              "  <thead>\n",
              "    <tr style=\"text-align: right;\">\n",
              "      <th></th>\n",
              "      <th>col1</th>\n",
              "      <th>col2</th>\n",
              "    </tr>\n",
              "  </thead>\n",
              "  <tbody>\n",
              "    <tr>\n",
              "      <th>0</th>\n",
              "      <td>1</td>\n",
              "      <td>9</td>\n",
              "    </tr>\n",
              "    <tr>\n",
              "      <th>1</th>\n",
              "      <td>3</td>\n",
              "      <td>23</td>\n",
              "    </tr>\n",
              "  </tbody>\n",
              "</table>\n",
              "</div>"
            ],
            "text/plain": [
              "   col1  col2\n",
              "0     1     9\n",
              "1     3    23"
            ]
          },
          "metadata": {
            "tags": []
          },
          "execution_count": 14
        }
      ]
    },
    {
      "cell_type": "code",
      "metadata": {
        "id": "sBU03Jm1aDuL",
        "colab_type": "code",
        "colab": {
          "base_uri": "https://localhost:8080/",
          "height": 102
        },
        "outputId": "c95e71c7-2bcb-4dc2-9008-36f231a9c96a"
      },
      "source": [
        "df.col1"
      ],
      "execution_count": 15,
      "outputs": [
        {
          "output_type": "execute_result",
          "data": {
            "text/plain": [
              "0     1\n",
              "1     3\n",
              "2    11\n",
              "3     2\n",
              "Name: col1, dtype: int64"
            ]
          },
          "metadata": {
            "tags": []
          },
          "execution_count": 15
        }
      ]
    },
    {
      "cell_type": "code",
      "metadata": {
        "id": "cX_oNRmQaLx5",
        "colab_type": "code",
        "colab": {
          "base_uri": "https://localhost:8080/",
          "height": 68
        },
        "outputId": "9e6c4f48-3c2b-4c35-e443-7449be756e4b"
      },
      "source": [
        "df.sum()"
      ],
      "execution_count": 16,
      "outputs": [
        {
          "output_type": "execute_result",
          "data": {
            "text/plain": [
              "col1    17\n",
              "col2    34\n",
              "dtype: int64"
            ]
          },
          "metadata": {
            "tags": []
          },
          "execution_count": 16
        }
      ]
    },
    {
      "cell_type": "code",
      "metadata": {
        "id": "yDjzw6ZiaP0b",
        "colab_type": "code",
        "colab": {
          "base_uri": "https://localhost:8080/",
          "height": 102
        },
        "outputId": "02c43e05-c047-4991-c8e8-86d4c2fd6ce4"
      },
      "source": [
        "df['sum_col'] = df.eval('col1+col2')\n",
        "print(df)"
      ],
      "execution_count": 18,
      "outputs": [
        {
          "output_type": "stream",
          "text": [
            "   col1  col2  sum_col\n",
            "0     1     9       10\n",
            "1     3    23       26\n",
            "2    11     0       11\n",
            "3     2     2        4\n"
          ],
          "name": "stdout"
        }
      ]
    },
    {
      "cell_type": "markdown",
      "metadata": {
        "id": "WzGBqoqma5_T",
        "colab_type": "text"
      },
      "source": [
        "## Sympy  \n",
        "\n",
        "  \n",
        "  대수 모듈. 이것에 관해 더 찾을 것이 있다면, 구글에서 SAGE를 검색하라."
      ]
    },
    {
      "cell_type": "code",
      "metadata": {
        "id": "a2jwErp2bUqn",
        "colab_type": "code",
        "colab": {
          "base_uri": "https://localhost:8080/",
          "height": 34
        },
        "outputId": "f125da2b-f005-4050-cda3-4e4ed8fa0e3e"
      },
      "source": [
        "import sympy as S\n",
        "x = S.symbols('x') # 변수 만들기\n",
        "\n",
        "p = sum(x**i for i in range(3))\n",
        "p #방정식 만들기"
      ],
      "execution_count": 22,
      "outputs": [
        {
          "output_type": "execute_result",
          "data": {
            "text/plain": [
              "x**2 + x + 1"
            ]
          },
          "metadata": {
            "tags": []
          },
          "execution_count": 22
        }
      ]
    },
    {
      "cell_type": "code",
      "metadata": {
        "id": "1hV_IGmWa92V",
        "colab_type": "code",
        "colab": {
          "base_uri": "https://localhost:8080/",
          "height": 34
        },
        "outputId": "dff857f3-886d-4328-9b41-80ac20729292"
      },
      "source": [
        "S.solve(p) # solves p=0인 방정식\n"
      ],
      "execution_count": 23,
      "outputs": [
        {
          "output_type": "execute_result",
          "data": {
            "text/plain": [
              "[-1/2 - sqrt(3)*I/2, -1/2 + sqrt(3)*I/2]"
            ]
          },
          "metadata": {
            "tags": []
          },
          "execution_count": 23
        }
      ]
    },
    {
      "cell_type": "code",
      "metadata": {
        "id": "DXsIkgsbb9gC",
        "colab_type": "code",
        "colab": {
          "base_uri": "https://localhost:8080/",
          "height": 34
        },
        "outputId": "4e1e77a0-7de4-4f5c-fa4b-de0afeff8790"
      },
      "source": [
        "from sympy.abc import a,b,c\n",
        "\n",
        "p = a*x**2 + b*x + c\n",
        "\n",
        "S.solve(p,x) # 근의 공식 구하기"
      ],
      "execution_count": 24,
      "outputs": [
        {
          "output_type": "execute_result",
          "data": {
            "text/plain": [
              "[(-b + sqrt(-4*a*c + b**2))/(2*a), -(b + sqrt(-4*a*c + b**2))/(2*a)]"
            ]
          },
          "metadata": {
            "tags": []
          },
          "execution_count": 24
        }
      ]
    },
    {
      "cell_type": "code",
      "metadata": {
        "id": "VxCa08G9cKBJ",
        "colab_type": "code",
        "colab": {
          "base_uri": "https://localhost:8080/",
          "height": 34
        },
        "outputId": "bd473e4f-e48c-4e3f-b268-77eb75f1ce2f"
      },
      "source": [
        "S.exp(S.I*a) # exp^ia"
      ],
      "execution_count": 25,
      "outputs": [
        {
          "output_type": "execute_result",
          "data": {
            "text/plain": [
              "exp(I*a)"
            ]
          },
          "metadata": {
            "tags": []
          },
          "execution_count": 25
        }
      ]
    },
    {
      "cell_type": "code",
      "metadata": {
        "id": "83g8vTSwcVKv",
        "colab_type": "code",
        "colab": {}
      },
      "source": [
        ""
      ],
      "execution_count": null,
      "outputs": []
    },
    {
      "cell_type": "code",
      "metadata": {
        "id": "ycq-btl_fztO",
        "colab_type": "code",
        "colab": {}
      },
      "source": [
        ""
      ],
      "execution_count": null,
      "outputs": []
    }
  ]
}