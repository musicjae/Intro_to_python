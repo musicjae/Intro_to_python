{
  "nbformat": 4,
  "nbformat_minor": 0,
  "metadata": {
    "colab": {
      "name": "2 Function.ipynb",
      "provenance": [],
      "authorship_tag": "ABX9TyPPZVUsN7i7/zKC+juaIXEn",
      "include_colab_link": true
    },
    "kernelspec": {
      "name": "python3",
      "display_name": "Python 3"
    }
  },
  "cells": [
    {
      "cell_type": "markdown",
      "metadata": {
        "id": "view-in-github",
        "colab_type": "text"
      },
      "source": [
        "<a href=\"https://colab.research.google.com/github/musicjae/intro_to_python/blob/master/levelup/2_Function.ipynb\" target=\"_parent\"><img src=\"https://colab.research.google.com/assets/colab-badge.svg\" alt=\"Open In Colab\"/></a>"
      ]
    },
    {
      "cell_type": "markdown",
      "metadata": {
        "id": "UOY0qzeuViDw"
      },
      "source": [
        "https://wikidocs.net/81226"
      ]
    },
    {
      "cell_type": "markdown",
      "metadata": {
        "id": "BIW2ScjJPnoP"
      },
      "source": [
        "파이썬 클래스에서 두 개의 언더바로 시작하고 두 개의 언더바로 끝나는 메소드는 특별한 역할을 갖는 메소드입니다."
      ]
    },
    {
      "cell_type": "code",
      "metadata": {
        "colab": {
          "base_uri": "https://localhost:8080/"
        },
        "id": "s8lBIUPtPUoC",
        "outputId": "cc23e05b-0f83-4a29-cae7-57b902233f30"
      },
      "source": [
        "class Func:\r\n",
        "    def __call__(self):\r\n",
        "        print(\"호출\")\r\n",
        "\r\n",
        "\r\n",
        "f = Func()\r\n",
        "print(f())"
      ],
      "execution_count": 7,
      "outputs": [
        {
          "output_type": "stream",
          "text": [
            "호출\n",
            "None\n"
          ],
          "name": "stdout"
        }
      ]
    },
    {
      "cell_type": "markdown",
      "metadata": {
        "id": "gqf4BjrkPr4h"
      },
      "source": [
        "## 가변 인자로서의 함수 입력체"
      ]
    },
    {
      "cell_type": "markdown",
      "metadata": {
        "id": "dVFWujCmQUPP"
      },
      "source": [
        "함수 호출시 args라는 변수는 여러 개의 입력에 대해 튜플로 저장한 후 이 튜플 객체를 바인딩"
      ]
    },
    {
      "cell_type": "code",
      "metadata": {
        "colab": {
          "base_uri": "https://localhost:8080/"
        },
        "id": "XXzFsscWPvOB",
        "outputId": "db9705bc-3dce-49d6-8b41-02ecacf9b186"
      },
      "source": [
        "def foo(*args):\r\n",
        "    return args\r\n",
        "\r\n",
        "a = [1,2,3,4,5]\r\n",
        "b = [5,4,2]\r\n",
        "\r\n",
        "print(foo(a))\r\n",
        "print(foo(b))"
      ],
      "execution_count": 10,
      "outputs": [
        {
          "output_type": "stream",
          "text": [
            "([1, 2, 3, 4, 5],)\n",
            "([5, 4, 2],)\n"
          ],
          "name": "stdout"
        }
      ]
    },
    {
      "cell_type": "markdown",
      "metadata": {
        "id": "jLIVZ_LLQy_g"
      },
      "source": [
        "### 위치 인자와 키워드 인자 사용하기  \r\n",
        "    \r\n",
        "- 키워드 인자\r\n",
        "    -  keyword arguments의 약어로 kwargs를 많이 사용  \r\n",
        "    - 딕셔너리에는 함수 호출부에서 전달한 키워드와 값이 저장"
      ]
    },
    {
      "cell_type": "code",
      "metadata": {
        "colab": {
          "base_uri": "https://localhost:8080/"
        },
        "id": "t4QgIHmkQ3eT",
        "outputId": "d75cef67-2223-4dad-eb42-dd1778e50fa4"
      },
      "source": [
        "def foo(**kwargs):\r\n",
        "    print(kwargs)\r\n",
        "\r\n",
        "t = foo(a=1,b='ab')"
      ],
      "execution_count": 13,
      "outputs": [
        {
          "output_type": "stream",
          "text": [
            "{'a': 1, 'b': 'ab'}\n"
          ],
          "name": "stdout"
        }
      ]
    },
    {
      "cell_type": "code",
      "metadata": {
        "colab": {
          "base_uri": "https://localhost:8080/"
        },
        "id": "HRFch-xORFJn",
        "outputId": "bdd556ac-9e3a-4a03-8428-d3b5d07991e9"
      },
      "source": [
        "def len(*args, **kwargs):\r\n",
        "    print(args)\r\n",
        "    print(kwargs)\r\n",
        "\r\n",
        "len(3,2,1,a='가',b='2',c='다라')"
      ],
      "execution_count": 15,
      "outputs": [
        {
          "output_type": "stream",
          "text": [
            "(3, 2, 1)\n",
            "{'a': '가', 'b': '2', 'c': '다라'}\n"
          ],
          "name": "stdout"
        }
      ]
    },
    {
      "cell_type": "code",
      "metadata": {
        "colab": {
          "base_uri": "https://localhost:8080/"
        },
        "id": "TKiu4BGmRzdb",
        "outputId": "562074fd-1bc4-468f-ac82-60c78cce23f1"
      },
      "source": [
        "def test(a,b,c):\r\n",
        "    print(a,b,c)\r\n",
        "\r\n",
        "data= [1,2,3]\r\n",
        "test(*data)"
      ],
      "execution_count": 18,
      "outputs": [
        {
          "output_type": "stream",
          "text": [
            "1 2 3\n"
          ],
          "name": "stdout"
        }
      ]
    },
    {
      "cell_type": "markdown",
      "metadata": {
        "id": "9e8_Yvp1SUvT"
      },
      "source": [
        "## lambda 함수"
      ]
    },
    {
      "cell_type": "code",
      "metadata": {
        "colab": {
          "base_uri": "https://localhost:8080/"
        },
        "id": "2ImCYWjzSV5Q",
        "outputId": "1c5308a0-7e55-4a66-f3ff-94b709febf0e"
      },
      "source": [
        "x=[1,2,3,4]\r\n",
        "testf = lambda x : x*5\r\n",
        "\r\n",
        "for i in x:\r\n",
        "    print(testf(i))"
      ],
      "execution_count": 24,
      "outputs": [
        {
          "output_type": "stream",
          "text": [
            "5\n",
            "10\n",
            "15\n",
            "20\n"
          ],
          "name": "stdout"
        }
      ]
    },
    {
      "cell_type": "markdown",
      "metadata": {
        "id": "Q7GNqZoaU1QH"
      },
      "source": [
        "## 클래스 내부의 함수  \r\n",
        "  \r\n",
        "함수 내의 함수를 작성하는 것보다 클래스 내부에 함수를 작성하는 것이 더 readable"
      ]
    },
    {
      "cell_type": "markdown",
      "metadata": {
        "id": "yY8fn3vXVgdA"
      },
      "source": [
        "- 참고로 클래스에 __call__ 메서드를 정의해두면 '객체( )'와 같이 사용할 때 __call__ 메서드가 호출됩니다. "
      ]
    },
    {
      "cell_type": "code",
      "metadata": {
        "colab": {
          "base_uri": "https://localhost:8080/"
        },
        "id": "zcD3qMnuU6Y4",
        "outputId": "84bdd713-db01-4d0c-d684-396a2b3bd656"
      },
      "source": [
        "class Test:\r\n",
        "    def __init__(self,x):\r\n",
        "        self.data = x\r\n",
        "    def __call__(self):\r\n",
        "        print(self.data)\r\n",
        "\r\n",
        "\r\n",
        "x = [1,2,3]\r\n",
        "\r\n",
        "t = Test(x)\r\n",
        "t = t()\r\n",
        "print(t)"
      ],
      "execution_count": 32,
      "outputs": [
        {
          "output_type": "stream",
          "text": [
            "[1, 2, 3]\n",
            "None\n"
          ],
          "name": "stdout"
        }
      ]
    }
  ]
}