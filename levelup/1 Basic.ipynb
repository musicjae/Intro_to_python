{
  "nbformat": 4,
  "nbformat_minor": 0,
  "metadata": {
    "colab": {
      "name": "Basic.ipynb",
      "provenance": [],
      "authorship_tag": "ABX9TyOu5jNrLMe9nkTK1nRXEIiN",
      "include_colab_link": true
    },
    "kernelspec": {
      "name": "python3",
      "display_name": "Python 3"
    }
  },
  "cells": [
    {
      "cell_type": "markdown",
      "metadata": {
        "id": "view-in-github",
        "colab_type": "text"
      },
      "source": [
        "<a href=\"https://colab.research.google.com/github/musicjae/intro_to_python/blob/master/levelup/1%20Basic.ipynb\" target=\"_parent\"><img src=\"https://colab.research.google.com/assets/colab-badge.svg\" alt=\"Open In Colab\"/></a>"
      ]
    },
    {
      "cell_type": "markdown",
      "metadata": {
        "id": "qav7gSsDOobn"
      },
      "source": [
        "참고: https://wikidocs.net/book/4170"
      ]
    },
    {
      "cell_type": "markdown",
      "metadata": {
        "id": "QzwQo2CmEHDH"
      },
      "source": [
        "## Tuple Unpacking"
      ]
    },
    {
      "cell_type": "code",
      "metadata": {
        "colab": {
          "base_uri": "https://localhost:8080/"
        },
        "id": "TJFJ7B-kD2m7",
        "outputId": "bfbe4b90-9ffc-4b11-90ce-48fde006a464"
      },
      "source": [
        "data = (11,22,33)\r\n",
        "a1,a2,a3 = data\r\n",
        "print(a1)    # 각 변수가 튜플 내의 원소들 각각에 대해 바인딩한다.\r\n",
        "\r\n",
        "data2 = (1,2,3,4,5,6,7,8)\r\n",
        "low,*others,high = data2\r\n",
        "print(others, type(others)) # 양 끝을 제외한 나머지 모두가 이곳에 리스트 형식으로 들어간다."
      ],
      "execution_count": 3,
      "outputs": [
        {
          "output_type": "stream",
          "text": [
            "11\n",
            "[2, 3, 4, 5, 6, 7] <class 'list'>\n"
          ],
          "name": "stdout"
        }
      ]
    },
    {
      "cell_type": "code",
      "metadata": {
        "colab": {
          "base_uri": "https://localhost:8080/"
        },
        "id": "9dL0RhK7EmTi",
        "outputId": "670b5001-f4a6-476c-fd33-cbdc7244ef88"
      },
      "source": [
        "def hap(n1,n2,n3,n4):\r\n",
        "    return n1+n2+n3+n4\r\n",
        "\r\n",
        "s = (1,2,3,4)\r\n",
        "result = hap(*s) # unpack\r\n",
        "print(result)"
      ],
      "execution_count": 4,
      "outputs": [
        {
          "output_type": "stream",
          "text": [
            "10\n"
          ],
          "name": "stdout"
        }
      ]
    },
    {
      "cell_type": "markdown",
      "metadata": {
        "id": "uANubfNHNx-o"
      },
      "source": [
        "## zip"
      ]
    },
    {
      "cell_type": "code",
      "metadata": {
        "colab": {
          "base_uri": "https://localhost:8080/"
        },
        "id": "r0snrcUcLYUV",
        "outputId": "d85d6f20-d586-4c41-88cd-bbe6ad626fe6"
      },
      "source": [
        "en = ['a','b','c','d']\r\n",
        "ko= ['가','나','다','라']\r\n",
        "\r\n",
        "z = zip(en, ko)\r\n",
        "print(list(z)) # only list\r\n",
        "\r\n",
        "for e,k in zip(en, ko):\r\n",
        "    print(e,k)\r\n",
        "\r\n",
        "z = dict(zip(en,ko))\r\n",
        "print(z)\r\n",
        "print(z.keys())"
      ],
      "execution_count": 19,
      "outputs": [
        {
          "output_type": "stream",
          "text": [
            "[('a', '가'), ('b', '나'), ('c', '다'), ('d', '라')]\n",
            "a 가\n",
            "b 나\n",
            "c 다\n",
            "d 라\n",
            "{'a': '가', 'b': '나', 'c': '다', 'd': '라'}\n",
            "dict_keys(['a', 'b', 'c', 'd'])\n"
          ],
          "name": "stdout"
        }
      ]
    },
    {
      "cell_type": "markdown",
      "metadata": {
        "id": "1UZh3oK-N4Wx"
      },
      "source": [
        "## zip comprehension"
      ]
    },
    {
      "cell_type": "code",
      "metadata": {
        "colab": {
          "base_uri": "https://localhost:8080/"
        },
        "id": "lOi2I2ByN5xg",
        "outputId": "b687c067-809a-4d98-ed0c-34db877ff679"
      },
      "source": [
        "man = ['철수','철용','철이']\r\n",
        "value = [100,90,60]\r\n",
        "\r\n",
        "scores = {k:v//2 for k,v in zip(man,value)}\r\n",
        "print(scores)\r\n",
        "\r\n",
        "scores2 = {k:v for k,v in zip(man,value) if v % 3 ==0}\r\n",
        "print(scores2)"
      ],
      "execution_count": 25,
      "outputs": [
        {
          "output_type": "stream",
          "text": [
            "{'철수': 50, '철용': 45, '철이': 30}\n",
            "{'철용': 90, '철이': 60}\n"
          ],
          "name": "stdout"
        }
      ]
    }
  ]
}