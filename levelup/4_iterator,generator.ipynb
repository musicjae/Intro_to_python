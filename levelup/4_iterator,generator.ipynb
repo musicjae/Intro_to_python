{
  "nbformat": 4,
  "nbformat_minor": 0,
  "metadata": {
    "colab": {
      "name": "4 iterator,generator.ipynb",
      "provenance": [],
      "authorship_tag": "ABX9TyNdLlBsjT2ZFAuckVA8hyIA",
      "include_colab_link": true
    },
    "kernelspec": {
      "name": "python3",
      "display_name": "Python 3"
    }
  },
  "cells": [
    {
      "cell_type": "markdown",
      "metadata": {
        "id": "view-in-github",
        "colab_type": "text"
      },
      "source": [
        "<a href=\"https://colab.research.google.com/github/musicjae/intro_to_python/blob/master/levelup/4_iterator%2Cgenerator.ipynb\" target=\"_parent\"><img src=\"https://colab.research.google.com/assets/colab-badge.svg\" alt=\"Open In Colab\"/></a>"
      ]
    },
    {
      "cell_type": "code",
      "metadata": {
        "colab": {
          "base_uri": "https://localhost:8080/"
        },
        "id": "bWTRj8sYYS3W",
        "outputId": "f7ca6e49-8d79-4d21-9af9-4a6a4ab23fd4"
      },
      "source": [
        "a = [1,2,3,4,5]\r\n",
        "ia = iter(a)"
      ],
      "execution_count": 11,
      "outputs": [
        {
          "output_type": "execute_result",
          "data": {
            "text/plain": [
              "<list_iterator at 0x7fa31847ab70>"
            ]
          },
          "metadata": {
            "tags": []
          },
          "execution_count": 11
        }
      ]
    },
    {
      "cell_type": "markdown",
      "metadata": {
        "id": "fAJuzn9Ea_OI"
      },
      "source": [
        "### iter 만들기"
      ]
    },
    {
      "cell_type": "code",
      "metadata": {
        "colab": {
          "base_uri": "https://localhost:8080/"
        },
        "id": "WwsGlV1CaJPB",
        "outputId": "138e5227-e96e-416e-f8c6-3bc0c20381fa"
      },
      "source": [
        "class MyIterator:\r\n",
        "    def __next__(self):\r\n",
        "        return [1,2,3,4,5]\r\n",
        "\r\n",
        "class MyIterable:\r\n",
        "    def __iter__(self):\r\n",
        "        obj = MyIterator() # 객체 만들어주고\r\n",
        "        return obj # 그 객체 반환\r\n",
        "\r\n",
        "m = MyIterable()\r\n",
        "print(m)\r\n",
        "r = iter(m)\r\n",
        "print(r)\r\n",
        "print(next(r))"
      ],
      "execution_count": 20,
      "outputs": [
        {
          "output_type": "stream",
          "text": [
            "<__main__.MyIterable object at 0x7fa31839a518>\n",
            "<__main__.MyIterator object at 0x7fa3184587f0>\n",
            "[1, 2, 3, 4, 5]\n"
          ],
          "name": "stdout"
        }
      ]
    },
    {
      "cell_type": "markdown",
      "metadata": {
        "id": "mIX2582RbosL"
      },
      "source": [
        "### 사용 예  \r\n",
        "  \r\n",
        "기존에 사용하던 리스트, 튜플, 딕셔너리는 이터러블한데, 이들은 내부적으로 위 함수가 구현되어 있다."
      ]
    },
    {
      "cell_type": "code",
      "metadata": {
        "id": "9X1x9o4Jb2vl"
      },
      "source": [
        "class cities:\r\n",
        "    def __init__(self):\r\n",
        "        self.data = ['서울','대전','인천','강릉']\r\n",
        "        self.idx = 0\r\n",
        "\r\n",
        "    def __iter__(self):\r\n",
        "        return self\r\n",
        "\r\n",
        "    def __next__(self):\r\n",
        "        if self.idx < len(self.data):\r\n",
        "            current_city = self.data[self.idx] # 인덱스가 데이터 길이보다 작을 시, 현재 도시를 데이터 리스트의 해당 인덱스와 바인딩\r\n",
        "            self.idx += 1\r\n",
        "            return current_city\r\n",
        "        else:\r\n",
        "            raise StopIteration"
      ],
      "execution_count": 42,
      "outputs": []
    },
    {
      "cell_type": "code",
      "metadata": {
        "id": "txf617n6dK8m"
      },
      "source": [
        "c = cities()"
      ],
      "execution_count": 43,
      "outputs": []
    },
    {
      "cell_type": "code",
      "metadata": {
        "colab": {
          "base_uri": "https://localhost:8080/"
        },
        "id": "fPy6sZn0cjyH",
        "outputId": "aa5d4196-2d51-4709-d91e-a0107e7f9e76"
      },
      "source": [
        "\r\n",
        "print(c.data)\r\n",
        "print(c.idx)\r\n",
        "\r\n",
        "for i in c:\r\n",
        "    print(i)"
      ],
      "execution_count": 31,
      "outputs": [
        {
          "output_type": "stream",
          "text": [
            "['서울', '대전', '인천', '강릉']\n",
            "0\n",
            "서울\n",
            "대전\n",
            "인천\n",
            "강릉\n"
          ],
          "name": "stdout"
        }
      ]
    },
    {
      "cell_type": "code",
      "metadata": {
        "colab": {
          "base_uri": "https://localhost:8080/"
        },
        "id": "MkKwiqLLc0_2",
        "outputId": "0d64e945-cb26-48d8-abe1-10ffb3f3c2f3"
      },
      "source": [
        "ir2c = iter(c)\r\n",
        "print(next(ir2c)) # 첫 data 리스트 내의 자료가 출력\r\n",
        "print(next(ir2c)) \r\n",
        "print(next(ir2c)) \r\n",
        "print(next(ir2c)) \r\n"
      ],
      "execution_count": 44,
      "outputs": [
        {
          "output_type": "stream",
          "text": [
            "서울\n",
            "대전\n",
            "인천\n",
            "강릉\n"
          ],
          "name": "stdout"
        }
      ]
    },
    {
      "cell_type": "markdown",
      "metadata": {
        "id": "pLo7LEMbeDTC"
      },
      "source": [
        "## 제네레이터  \r\n",
        " - return 키워드 대신 yield라는 키워드를 사용하는 함수  \r\n",
        " - 제너레이터를 사용하면 한 번에 데이터를 모아서 처리하지 않기 때문에 큰 메모리를 사용하지 않아도 되는데 이는 규모가 있는 프로그램을 개발할 때 매우 중요한 요소입니다. 정리하면 제너레이터는 큰 규모의 확장성이 있는 프로그램을 개발하기 위해 사용한다고 말할 수 있습니다."
      ]
    },
    {
      "cell_type": "code",
      "metadata": {
        "colab": {
          "base_uri": "https://localhost:8080/"
        },
        "id": "eMdweEUaeEX8",
        "outputId": "85066d98-75bb-43be-f196-12b7c1cf49c1"
      },
      "source": [
        "def num_gen():\r\n",
        "    for i in range(10):\r\n",
        "        yield i\r\n",
        "\r\n",
        "ng = num_gen()\r\n",
        "print(next(ng))\r\n",
        "print(next(ng))\r\n",
        "print(next(ng))\r\n",
        "print(next(ng))"
      ],
      "execution_count": 47,
      "outputs": [
        {
          "output_type": "stream",
          "text": [
            "0\n",
            "1\n",
            "2\n",
            "3\n"
          ],
          "name": "stdout"
        }
      ]
    },
    {
      "cell_type": "code",
      "metadata": {
        "colab": {
          "base_uri": "https://localhost:8080/"
        },
        "id": "759OS6TEeqLF",
        "outputId": "1b049c22-9dca-4d42-c703-de1064d02347"
      },
      "source": [
        "def sell_fish(n):\r\n",
        "    tray = []\r\n",
        "    for i in range(n):\r\n",
        "        fish = 'fish'+str(i)\r\n",
        "        tray.append(fish)\r\n",
        "    return tray\r\n",
        "\r\n",
        "def packaging(fish):\r\n",
        "    print(f'finished: {fish}')\r\n",
        "\r\n",
        "for i in sell_fish(10):\r\n",
        "    packaging(i)"
      ],
      "execution_count": 55,
      "outputs": [
        {
          "output_type": "stream",
          "text": [
            "finished: fish0\n",
            "finished: fish1\n",
            "finished: fish2\n",
            "finished: fish3\n",
            "finished: fish4\n",
            "finished: fish5\n",
            "finished: fish6\n",
            "finished: fish7\n",
            "finished: fish8\n",
            "finished: fish9\n"
          ],
          "name": "stdout"
        }
      ]
    }
  ]
}