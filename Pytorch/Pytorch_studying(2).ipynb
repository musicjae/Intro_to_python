{
  "nbformat": 4,
  "nbformat_minor": 0,
  "metadata": {
    "colab": {
      "name": "Pytorch_studying(2).ipynb",
      "provenance": [],
      "collapsed_sections": [],
      "authorship_tag": "ABX9TyMm4W2BLFSjkaf0fnhTUwGx",
      "include_colab_link": true
    },
    "kernelspec": {
      "name": "python3",
      "display_name": "Python 3"
    },
    "accelerator": "GPU"
  },
  "cells": [
    {
      "cell_type": "markdown",
      "metadata": {
        "id": "view-in-github",
        "colab_type": "text"
      },
      "source": [
        "<a href=\"https://colab.research.google.com/github/musicjae/intro_to_python/blob/master/Pytorch/Pytorch_studying(2).ipynb\" target=\"_parent\"><img src=\"https://colab.research.google.com/assets/colab-badge.svg\" alt=\"Open In Colab\"/></a>"
      ]
    },
    {
      "cell_type": "markdown",
      "metadata": {
        "id": "KpVy55ZBmmB-",
        "colab_type": "text"
      },
      "source": [
        "PYTORCH는 무엇인가?  \n",
        "\n",
        "Python 기반의 과학 연산 패키지로 다음과 같은 두 집단을 대상으로 합니다:\n",
        "\n",
        "- NumPy를 대체하면서 GPU를 이용한 연산이 필요한 경우\n",
        "\n",
        "- 최대한의 유연성과 속도를 제공하는 딥러닝 연구 플랫폼이 필요한 경우"
      ]
    },
    {
      "cell_type": "markdown",
      "metadata": {
        "id": "vDmQn1yckEUR",
        "colab_type": "text"
      },
      "source": [
        "# 1. 텐서"
      ]
    },
    {
      "cell_type": "code",
      "metadata": {
        "id": "nEZiBN2Ne_7l",
        "colab_type": "code",
        "colab": {
          "base_uri": "https://localhost:8080/",
          "height": 510
        },
        "outputId": "64e4b7ad-b4a1-4eaf-dd95-ec2942da270c"
      },
      "source": [
        "import torch\n",
        "\n",
        "test1 = torch.empty(5,3)\n",
        "test2 = torch.rand(5,3)\n",
        "test3 = torch.tensor([2,1]) # data --> tensor\n",
        "print('\\n\\n1',test1,'\\n\\n2', test2,'\\n\\n3', test3)\n",
        "\n",
        "x = test2.new_ones(5, 3, dtype=torch.double)  # new_* 메소드는 크기를 받습니다\n",
        "print('\\n\\n4',x)\n",
        "\n",
        "print('\\n\\n5',test1+test2)"
      ],
      "execution_count": 11,
      "outputs": [
        {
          "output_type": "stream",
          "text": [
            "\n",
            "\n",
            "1 tensor([[1.8054e-35, 0.0000e+00, 1.6675e-43],\n",
            "        [5.6052e-44, 1.6816e-43, 6.1657e-44],\n",
            "        [4.4842e-44, 1.6956e-43, 6.1657e-44],\n",
            "        [4.4842e-44, 1.7096e-43, 5.7453e-44],\n",
            "        [7.3063e-01, 8.1877e-01, 4.2083e-01]]) \n",
            "\n",
            "2 tensor([[0.6857, 0.4001, 0.3928],\n",
            "        [0.5153, 0.3877, 0.9543],\n",
            "        [0.5612, 0.0323, 0.2096],\n",
            "        [0.3465, 0.2714, 0.2285],\n",
            "        [0.2157, 0.8310, 0.0175]]) \n",
            "\n",
            "3 tensor([2, 1])\n",
            "\n",
            "\n",
            "4 tensor([[1., 1., 1.],\n",
            "        [1., 1., 1.],\n",
            "        [1., 1., 1.],\n",
            "        [1., 1., 1.],\n",
            "        [1., 1., 1.]], dtype=torch.float64)\n",
            "\n",
            "\n",
            "5 tensor([[0.6857, 0.4001, 0.3928],\n",
            "        [0.5153, 0.3877, 0.9543],\n",
            "        [0.5612, 0.0323, 0.2096],\n",
            "        [0.3465, 0.2714, 0.2285],\n",
            "        [0.9464, 1.6497, 0.4384]])\n"
          ],
          "name": "stdout"
        }
      ]
    },
    {
      "cell_type": "markdown",
      "metadata": {
        "id": "xeALmggjkGMJ",
        "colab_type": "text"
      },
      "source": [
        "## 1.2 크기 변경"
      ]
    },
    {
      "cell_type": "code",
      "metadata": {
        "id": "kVUGar1ckH-y",
        "colab_type": "code",
        "colab": {
          "base_uri": "https://localhost:8080/",
          "height": 153
        },
        "outputId": "372da8c8-2e89-4cb3-8fb6-4fcd3bee863b"
      },
      "source": [
        "tor = torch.rand(5,3)\n",
        "print(tor)\n",
        "\n",
        "tor = tor.view(3,5) # resize\n",
        "print(tor)"
      ],
      "execution_count": 17,
      "outputs": [
        {
          "output_type": "stream",
          "text": [
            "tensor([[0.9183, 0.0772, 0.9426],\n",
            "        [0.6906, 0.8982, 0.5494],\n",
            "        [0.1190, 0.1512, 0.7501],\n",
            "        [0.4374, 0.9671, 0.2858],\n",
            "        [0.5406, 0.5627, 0.9293]])\n",
            "tensor([[0.9183, 0.0772, 0.9426, 0.6906, 0.8982],\n",
            "        [0.5494, 0.1190, 0.1512, 0.7501, 0.4374],\n",
            "        [0.9671, 0.2858, 0.5406, 0.5627, 0.9293]])\n"
          ],
          "name": "stdout"
        }
      ]
    },
    {
      "cell_type": "markdown",
      "metadata": {
        "id": "c3MNMbnlklip",
        "colab_type": "text"
      },
      "source": [
        "## 1.3 텐서값을 하나의 수로 뽑아내기 item"
      ]
    },
    {
      "cell_type": "code",
      "metadata": {
        "id": "wD88gzFJkoLa",
        "colab_type": "code",
        "colab": {
          "base_uri": "https://localhost:8080/",
          "height": 51
        },
        "outputId": "2130bbd6-d663-44a5-dcfc-86ea606d749d"
      },
      "source": [
        "tor = torch.rand(1)\n",
        "print(tor)  \n",
        "\n",
        "torr = tor.item()\n",
        "print(torr)\n",
        "  \n"
      ],
      "execution_count": 24,
      "outputs": [
        {
          "output_type": "stream",
          "text": [
            "tensor([0.1570])\n",
            "0.15695178508758545\n"
          ],
          "name": "stdout"
        }
      ]
    },
    {
      "cell_type": "markdown",
      "metadata": {
        "id": "v5lVSeOzlzTq",
        "colab_type": "text"
      },
      "source": [
        "## 1.4 tensor --> numpy"
      ]
    },
    {
      "cell_type": "code",
      "metadata": {
        "id": "m0F6YOxfl2Ji",
        "colab_type": "code",
        "colab": {
          "base_uri": "https://localhost:8080/",
          "height": 51
        },
        "outputId": "b02003e3-8879-4a3d-c089-8b44ea858ca9"
      },
      "source": [
        "tor = torch.rand(1)\n",
        "print(tor)  \n",
        "\n",
        "tor2 = tor.numpy()\n",
        "print(tor2)"
      ],
      "execution_count": 25,
      "outputs": [
        {
          "output_type": "stream",
          "text": [
            "tensor([0.3287])\n",
            "[0.32868278]\n"
          ],
          "name": "stdout"
        }
      ]
    },
    {
      "cell_type": "markdown",
      "metadata": {
        "id": "d4vFs1EHl9tX",
        "colab_type": "text"
      },
      "source": [
        "## 1.5 numpy --> tensor"
      ]
    },
    {
      "cell_type": "code",
      "metadata": {
        "id": "N1aw_m18mDi5",
        "colab_type": "code",
        "colab": {
          "base_uri": "https://localhost:8080/",
          "height": 68
        },
        "outputId": "7b65dfc3-3cc9-4ea4-900f-ad89f05aaefe"
      },
      "source": [
        "import numpy as np\n",
        "import torch\n",
        "\n",
        "num = np.ones(5)\n",
        "print(num,'\\n')\n",
        "tor3 = torch.from_numpy(num)\n",
        "print(tor3)"
      ],
      "execution_count": 29,
      "outputs": [
        {
          "output_type": "stream",
          "text": [
            "[1. 1. 1. 1. 1.] \n",
            "\n",
            "tensor([1., 1., 1., 1., 1.], dtype=torch.float64)\n"
          ],
          "name": "stdout"
        }
      ]
    },
    {
      "cell_type": "markdown",
      "metadata": {
        "id": "SODMeOBcnl-M",
        "colab_type": "text"
      },
      "source": [
        "# 2. 예제로 배우는 파이토치"
      ]
    },
    {
      "cell_type": "markdown",
      "metadata": {
        "id": "VLXcQAXxpQnS",
        "colab_type": "text"
      },
      "source": [
        "## 2.1 넘파이 사용 시"
      ]
    },
    {
      "cell_type": "code",
      "metadata": {
        "id": "GVj85H9fnjJn",
        "colab_type": "code",
        "colab": {
          "base_uri": "https://localhost:8080/",
          "height": 238
        },
        "outputId": "519400ac-65ef-455c-8f0f-49b1016948ca"
      },
      "source": [
        "# 넘파이\n",
        "\n",
        "import numpy as np\n",
        "import time\n",
        "\n",
        "# N은 배치 크기이며, D_in은 입력의 차원입니다;\n",
        "# H는 은닉층의 차원이며, D_out은 출력 차원입니다.\n",
        "N, D_in, H, D_out = 64, 1000, 100, 10\n",
        "\n",
        "# 무작위의 입력과 출력 데이터를 생성합니다.\n",
        "x = np.random.randn(N, D_in)\n",
        "y = np.random.randn(N, D_out)\n",
        "\n",
        "# 무작위로 가중치를 초기화합니다.\n",
        "w1 = np.random.randn(D_in, H)\n",
        "w2 = np.random.randn(H, D_out)\n",
        "\n",
        "learning_rate = 1e-6\n",
        "start = time.time()\n",
        "for t in range(500):\n",
        "    # 순전파 단계: 예측값 y를 계산합니다.\n",
        "    h = x.dot(w1)\n",
        "    h_relu = np.maximum(h, 0)\n",
        "    y_pred = h_relu.dot(w2)\n",
        "\n",
        "    # 손실(loss)을 계산하고 출력합니다.\n",
        "    loss = np.square(y_pred - y).sum()\n",
        "    if (t+1) % 50 == 0:\n",
        "        print('Epoch:', '%04d' % (t + 1), 'cost =', '{:.6f}'.format(loss))\n",
        "\n",
        "    # 손실에 따른 w1, w2의 변화도를 계산하고 역전파합니다.\n",
        "    grad_y_pred = 2.0 * (y_pred - y)\n",
        "    grad_w2 = h_relu.T.dot(grad_y_pred)\n",
        "    grad_h_relu = grad_y_pred.dot(w2.T)\n",
        "    grad_h = grad_h_relu.copy()\n",
        "    grad_h[h < 0] = 0\n",
        "    grad_w1 = x.T.dot(grad_h)\n",
        "\n",
        "    # 가중치를 갱신합니다.\n",
        "    w1 -= learning_rate * grad_w1\n",
        "    w2 -= learning_rate * grad_w2\n",
        "end= time.time()\n",
        "print('\\n\\n','>>>>>> 소요 시간: ',end-start,'sec')"
      ],
      "execution_count": 53,
      "outputs": [
        {
          "output_type": "stream",
          "text": [
            "Epoch: 0050 cost = 10074.721998\n",
            "Epoch: 0100 cost = 297.387863\n",
            "Epoch: 0150 cost = 16.145471\n",
            "Epoch: 0200 cost = 1.197034\n",
            "Epoch: 0250 cost = 0.107648\n",
            "Epoch: 0300 cost = 0.010891\n",
            "Epoch: 0350 cost = 0.001180\n",
            "Epoch: 0400 cost = 0.000133\n",
            "Epoch: 0450 cost = 0.000015\n",
            "Epoch: 0500 cost = 0.000002\n",
            "\n",
            "\n",
            " >>>>>> 소요 시간:  1.0614979267120361 sec\n"
          ],
          "name": "stdout"
        }
      ]
    },
    {
      "cell_type": "markdown",
      "metadata": {
        "id": "a5KffJTOpVLW",
        "colab_type": "text"
      },
      "source": [
        "## 2.2 파이토치 사용 시"
      ]
    },
    {
      "cell_type": "code",
      "metadata": {
        "id": "8xpQXFpEpWSD",
        "colab_type": "code",
        "colab": {
          "base_uri": "https://localhost:8080/",
          "height": 493
        },
        "outputId": "ba05a809-3934-4a26-fe31-75f67eea1972"
      },
      "source": [
        "import torch\n",
        "import time\n",
        "\n",
        "\n",
        "dtype = torch.float\n",
        "device = torch.device(\"cpu\")\n",
        "device = torch.device(\"cuda:0\") # GPU에서 실행\n",
        "\n",
        "N, D_in, H, D_out = 64, 1000, 100, 10 # N은 배치 크기이며, D_in은 입력의 차원입니다; # H는 은닉층의 차원이며, D_out은 출력 차원입니다.\n",
        "\n",
        "x = torch.randn(N,D_in)\n",
        "y=torch.randn(N,D_out)\n",
        "\n",
        "w1 = torch.randn(D_in, H)\n",
        "w2 = torch.randn(H,D_out)\n",
        "\n",
        "learning_rate = 1e-6\n",
        "start = time.time()\n",
        "\n",
        "\n",
        "for t in range(500):\n",
        "\n",
        "    # forward \n",
        "\n",
        "    h=x.mm(w1)\n",
        "    h_relu = h.clamp(min=0) # relu\n",
        "    y_pred = h_relu.mm(w2)\n",
        "\n",
        "    # loss\n",
        "\n",
        "    loss = (y_pred - y).pow(2).sum().item()\n",
        "    if (t+1)%20==0:\n",
        "\n",
        "        print(\"epoch:\", '%.04d' % (t+1), 'cost: {:.06f}'.format(loss))\n",
        "\n",
        "    # backward\n",
        "\n",
        "    grad_y_pred = 2.0*(y_pred - y)\n",
        "    grad_w2 = h_relu.t().mm(grad_y_pred)\n",
        "    grad_h_relu = grad_y_pred.mm(w2.t())\n",
        "    grad_h = grad_h_relu.clone()\n",
        "    grad_h[h<0] = 0\n",
        "    grad_w1 = x.t().mm(grad_h)\n",
        "\n",
        "    # update by sgd\n",
        "\n",
        "    w1 -= learning_rate*grad_w1\n",
        "    w2 -= learning_rate*grad_w2\n",
        "end = time.time()\n",
        "print('\\n\\n >>>>> 소요 시간: ',end-start,'sec')"
      ],
      "execution_count": 54,
      "outputs": [
        {
          "output_type": "stream",
          "text": [
            "epoch: 0020 cost: 279092.062500\n",
            "epoch: 0040 cost: 39204.929688\n",
            "epoch: 0060 cost: 9579.550781\n",
            "epoch: 0080 cost: 2985.496582\n",
            "epoch: 0100 cost: 1051.449097\n",
            "epoch: 0120 cost: 394.996124\n",
            "epoch: 0140 cost: 154.387115\n",
            "epoch: 0160 cost: 61.952080\n",
            "epoch: 0180 cost: 25.351934\n",
            "epoch: 0200 cost: 10.541975\n",
            "epoch: 0220 cost: 4.451124\n",
            "epoch: 0240 cost: 1.902354\n",
            "epoch: 0260 cost: 0.821489\n",
            "epoch: 0280 cost: 0.357924\n",
            "epoch: 0300 cost: 0.157300\n",
            "epoch: 0320 cost: 0.069628\n",
            "epoch: 0340 cost: 0.031095\n",
            "epoch: 0360 cost: 0.014058\n",
            "epoch: 0380 cost: 0.006507\n",
            "epoch: 0400 cost: 0.003128\n",
            "epoch: 0420 cost: 0.001597\n",
            "epoch: 0440 cost: 0.000878\n",
            "epoch: 0460 cost: 0.000518\n",
            "epoch: 0480 cost: 0.000326\n",
            "epoch: 0500 cost: 0.000218\n",
            "\n",
            "\n",
            " >>>>> 소요 시간:  0.5359079837799072 sec\n"
          ],
          "name": "stdout"
        }
      ]
    },
    {
      "cell_type": "markdown",
      "metadata": {
        "id": "TFIegva1trvm",
        "colab_type": "text"
      },
      "source": [
        "##이 비교에서는 파이토치가 넘파이 보다 약 2 배 더 빠르다!"
      ]
    },
    {
      "cell_type": "markdown",
      "metadata": {
        "id": "ykzEUc28stwx",
        "colab_type": "text"
      },
      "source": [
        "# 3. 자동 미분 Autograd"
      ]
    },
    {
      "cell_type": "markdown",
      "metadata": {
        "id": "yZrOjbU5tMNJ",
        "colab_type": "text"
      },
      "source": [
        "\"다행히도, 자동 미분 을 사용하여 신경망에서 역전파 단계의 연산을 자동화할 수 있습니다. PyTorch의 autograd 패키지는 정확히 이런 기능을 제공합니다. Autograd를 사용할 때, *신경망의 순전파 단계는 연산 그래프 를 정의하게 됩니다*; 이 그래프의 노드(node)는 Tensor, 엣지(edge)는 입력 Tensor로부터 출력 Tensor를 만들어내는 함수가 됩니다. 이 그래프를 통해 역전파를 하게 되면 변화도를 쉽게 계산할 수 있습니다.\n",
        "\n",
        "이는 복잡하게 들리지만, 실제로 사용하는 것은 매우 간단합니다. 각 Tensor는 연산 그래프에서 노드로 표현됩니다. 만약 x 가 x.requires_grad=True 인 Tensor면 x.grad 는 어떤 스칼라 값에 대한 x 의 변화도를 갖는 또 다른 Tensor입니다.\"\n",
        "https://tutorials.pytorch.kr/beginner/pytorch_with_examples.html"
      ]
    },
    {
      "cell_type": "markdown",
      "metadata": {
        "id": "WwwIHqMorlGF",
        "colab_type": "text"
      },
      "source": [
        "(1) torch.autograd.Function의 서브클래스 정의  \n",
        "(2) forward, backward 함수 구현  \n",
        "(3) 인스턴스 생성"
      ]
    },
    {
      "cell_type": "code",
      "metadata": {
        "id": "-AH4Y_61pP8Y",
        "colab_type": "code",
        "colab": {
          "base_uri": "https://localhost:8080/",
          "height": 187
        },
        "outputId": "ba450a7b-bd3a-425e-8abf-8882c474d6b4"
      },
      "source": [
        "import torch\n",
        "\n",
        "class MyReLU(torch.autograd.Function):\n",
        "\n",
        "    @staticmethod\n",
        "    def forward(ctx, input): # ctx는 컨텍스트 객체(context object)로 역전파 연산을 위한 정보 저장에 사용합니다. ctx.save_for_backward method를 사용하여 역전파 단계에서 사용할 어떠한 객체도 저장(cache)해 둘 수 있습니다.\n",
        "        \n",
        "        ctx.save_for_backward(input)\n",
        "        return input.clamp(min=0)\n",
        "\n",
        "    def backward(ctx, grad_output):\n",
        "\n",
        "        input, = ctx.saved_tensors\n",
        "        grad_input = grad_output.clone()\n",
        "        grad_input[input < 0] = 0\n",
        "        return grad_input\n",
        "\n",
        "dtype = torch.float\n",
        "device = torch.device(\"cpu\")\n",
        "\n",
        "# N : batch size\n",
        "# D_in: dimentionality of input\n",
        "# H: hidden layers #\n",
        "# D_out\n",
        "\n",
        "N, D_in, H, D_out = 64, 1000, 100,10\n",
        "\n",
        "#입력, 출력 저장하려고 무작위 값 생성\n",
        "x = torch.randn(N, D_in, device = device, dtype = dtype)\n",
        "y = torch.randn(N, D_out, device = device, dtype = dtype)\n",
        "\n",
        "w1 = torch.randn(D_in, H, device = device, dtype = dtype, requires_grad = True)\n",
        "w2 = torch.randn(H, D_out, device = device, dtype = dtype, requires_grad = True)\n",
        "\n",
        "learning_rate = 1e-6\n",
        "\n",
        "for t in range(500):\n",
        "\n",
        "    relu = MyReLU.apply # 사용자 정의 Function을 적용하기 위해 --.apply 메소드 사용.\n",
        "\n",
        "    # 순전파\n",
        "    y_pred = relu(x.mm(w1)).mm(w2)\n",
        "\n",
        "    # loss는 (1,) 형태의 텐서니까 loss.item()를 통해 그 안의 수를 빼낸다\n",
        "    loss = (y_pred - y).pow(2).sum()\n",
        "\n",
        "    if (t+1) % 50 == 0:\n",
        "\n",
        "        print('epoch: ',t+1, 'cost: ',loss.item())\n",
        "\n",
        "    # autograd: 이것은 requires_grad=True 를 갖는 모든 텐서에 대한 loss_grad를 계산.\n",
        "    #  이후 w1.grad와 w2.grad는 w1과 w2 각각에 대한 손실의 변화도를 갖는 Tensor가 됩니다\n",
        "    loss.backward()\n",
        "\n",
        "    #  수동으로 가중치 갱신\n",
        "\n",
        "    with torch.no_grad(): # 이것으로 감싸는 이유는 가중치들이 requires_grad = True 지만, autograd에서는 이것을 추적 x\n",
        "\n",
        "        w1 -= learning_rate*w1.grad\n",
        "        w2 -= learning_rate*w2.grad\n",
        "\n",
        "        # 가중치 갱신 이후 ==> 수동으로 변화도를 0으로 초기화\n",
        "\n",
        "        w1.grad.zero_()\n",
        "        w2.grad.zero_()"
      ],
      "execution_count": 6,
      "outputs": [
        {
          "output_type": "stream",
          "text": [
            "epoch:  50 cost:  10760.2587890625\n",
            "epoch:  100 cost:  427.66033935546875\n",
            "epoch:  150 cost:  29.322725296020508\n",
            "epoch:  200 cost:  2.406815767288208\n",
            "epoch:  250 cost:  0.21899059414863586\n",
            "epoch:  300 cost:  0.021426575258374214\n",
            "epoch:  350 cost:  0.0024144581984728575\n",
            "epoch:  400 cost:  0.00042376687633804977\n",
            "epoch:  450 cost:  0.00012494868133217096\n",
            "epoch:  500 cost:  5.2809824410360307e-05\n"
          ],
          "name": "stdout"
        }
      ]
    },
    {
      "cell_type": "markdown",
      "metadata": {
        "id": "4qOa2g5DfEhX",
        "colab_type": "text"
      },
      "source": [
        "# References. \n",
        "  \n",
        "[1] [예제로 배우는 파이토치](https://tutorials.pytorch.kr/beginner/pytorch_with_examples.html)"
      ]
    }
  ]
}