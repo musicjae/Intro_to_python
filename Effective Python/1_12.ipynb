{
  "nbformat": 4,
  "nbformat_minor": 0,
  "metadata": {
    "colab": {
      "name": "tech of python coding.ipynb",
      "provenance": [],
      "collapsed_sections": [],
      "toc_visible": true,
      "authorship_tag": "ABX9TyNGof02q9KTkRBu8US871+v",
      "include_colab_link": true
    },
    "kernelspec": {
      "name": "python3",
      "display_name": "Python 3"
    }
  },
  "cells": [
    {
      "cell_type": "markdown",
      "metadata": {
        "id": "view-in-github",
        "colab_type": "text"
      },
      "source": [
        "<a href=\"https://colab.research.google.com/github/musicjae/intro_to_python/blob/master/Effective%20Python/1_12.ipynb\" target=\"_parent\"><img src=\"https://colab.research.google.com/assets/colab-badge.svg\" alt=\"Open In Colab\"/></a>"
      ]
    },
    {
      "cell_type": "markdown",
      "metadata": {
        "id": "JiwWbqyIvx5e"
      },
      "source": [
        "# 3 byte/str"
      ]
    },
    {
      "cell_type": "markdown",
      "metadata": {
        "id": "Ds3MKrEhwATy"
      },
      "source": [
        "- 아스키 인코딩"
      ]
    },
    {
      "cell_type": "code",
      "metadata": {
        "colab": {
          "base_uri": "https://localhost:8080/"
        },
        "id": "dC-Lct8pvv_i",
        "outputId": "09c356a2-1383-4106-8d1c-99be1266e4bc"
      },
      "source": [
        "a = b'h\\x65llo'\n",
        "print(list(a))\n",
        "print(a)"
      ],
      "execution_count": null,
      "outputs": [
        {
          "output_type": "stream",
          "text": [
            "[104, 101, 108, 108, 111]\n",
            "b'hello'\n"
          ],
          "name": "stdout"
        }
      ]
    },
    {
      "cell_type": "markdown",
      "metadata": {
        "id": "fA7XjwY2wFrf"
      },
      "source": [
        "- str 인스턴스: 자연언어의 문자 표현을 담당하는 유니코드 code point 포함."
      ]
    },
    {
      "cell_type": "code",
      "metadata": {
        "colab": {
          "base_uri": "https://localhost:8080/"
        },
        "id": "SO9CNRkBwSNO",
        "outputId": "d910ca3d-4ee0-469b-bfd2-2aa2c9af026b"
      },
      "source": [
        "a = 'a\\u0300 propos'\n",
        "print(list(a))\n",
        "print(a)"
      ],
      "execution_count": null,
      "outputs": [
        {
          "output_type": "stream",
          "text": [
            "['a', '̀', ' ', 'p', 'r', 'o', 'p', 'o', 's']\n",
            "à propos\n"
          ],
          "name": "stdout"
        }
      ]
    },
    {
      "cell_type": "markdown",
      "metadata": {
        "id": "CN_BD2NEwa6D"
      },
      "source": [
        "- str 인스턴스에 직접 대응하는 binary 인코딩 결여   \n",
        "  - 유니코드 --> 이진 데이터 변환 requires  str의 encode 메서드 호출 \n",
        "- bytes에는 직접 대응하는 텍스트 인코딩 결여 \n",
        "  - 이진 데이터 --> 유니코드 변환 requires bytes의 decode 메서드 호출  \n",
        "    \n",
        "- 보통, UTF-8이 시스템 디폴트 인코딩 방식  \n",
        "- **유니코드 샌드위치**: 유니코드 데이터 인코딩/디코딩 부분을 인터페이스 가장 먼 경계 지점에 위치"
      ]
    },
    {
      "cell_type": "code",
      "metadata": {
        "colab": {
          "base_uri": "https://localhost:8080/"
        },
        "id": "5ecW06Gxx4a2",
        "outputId": "2deac9ee-faf2-4c00-9394-93c620341bd8"
      },
      "source": [
        "## str->byte\n",
        "\n",
        "def to_bytes(bytes_to_str):\n",
        "    if isinstance(bytes_to_str,str):\n",
        "        value=bytes_to_str.encode('utf-8')\n",
        "\n",
        "    else:\n",
        "        value=bytes_to_str\n",
        "    return value\n",
        "\n",
        "print(repr(to_bytes(b'foo')))\n",
        "print(repr(to_bytes('한글')))"
      ],
      "execution_count": null,
      "outputs": [
        {
          "output_type": "stream",
          "text": [
            "b'foo'\n",
            "b'\\xed\\x95\\x9c\\xea\\xb8\\x80'\n"
          ],
          "name": "stdout"
        }
      ]
    },
    {
      "cell_type": "markdown",
      "metadata": {
        "id": "9YQBB_wzQb9b"
      },
      "source": [
        "# 4 f-string을 통한 인터폴레이션 권유"
      ]
    },
    {
      "cell_type": "markdown",
      "metadata": {
        "id": "r4RWcTNeQnJM"
      },
      "source": [
        "- 파이썬에서 문자열을 형식화하는 4 방법 중 가장 일반적인 것은 % 를 사용하는 것."
      ]
    },
    {
      "cell_type": "code",
      "metadata": {
        "colab": {
          "base_uri": "https://localhost:8080/"
        },
        "id": "DRiFXXwSQffc",
        "outputId": "6a7831c4-2c0f-4503-b6dd-371bce546d04"
      },
      "source": [
        "a=10\n",
        "print('%d' % a) # % 뒤의 것은 형식지정자format specifier"
      ],
      "execution_count": null,
      "outputs": [
        {
          "output_type": "stream",
          "text": [
            "10\n"
          ],
          "name": "stdout"
        }
      ]
    },
    {
      "cell_type": "markdown",
      "metadata": {
        "id": "rRjjzKVSQ6aH"
      },
      "source": [
        "**위 방법의 단점**  \n",
        " - 튜플 내 데이터 순서 바꾸거나, 값의 타입 변경 시, 타입 변환 불가능 -> 오류 발생  \n",
        " - 형식화 이전에 값을 변경해야 하는 경우, 코드 가독성을 떨어지게 만드는 것이 불가피.  \n",
        " - 형시고하 문자열에서 동일 값 여러 번 사용 시, 튜플에서 동일 값 여러 번 반복  \n",
        "   \n",
        " - 위 문제를 해소하기 위해, % 연산자에는 튜플 대신 딕셔너리 사용하는 것이 더 좋기는 함. 하지만 이 경우 다른 문제가 발생하거나 기존 문제가 심해질 수 있음"
      ]
    },
    {
      "cell_type": "markdown",
      "metadata": {
        "id": "fVwYK3s_R8kp"
      },
      "source": [
        "### 내장함수 format"
      ]
    },
    {
      "cell_type": "code",
      "metadata": {
        "colab": {
          "base_uri": "https://localhost:8080/"
        },
        "id": "lkRKDGvoSTA2",
        "outputId": "9ebdee23-c240-4953-d7ab-41290d8415be"
      },
      "source": [
        "a = 321.123123\n",
        "ff = format(a, '.2f')\n",
        "print(ff)"
      ],
      "execution_count": null,
      "outputs": [
        {
          "output_type": "stream",
          "text": [
            "321.12\n"
          ],
          "name": "stdout"
        }
      ]
    },
    {
      "cell_type": "markdown",
      "metadata": {
        "id": "WjCgeZ2FSeF3"
      },
      "source": [
        "### str format"
      ]
    },
    {
      "cell_type": "code",
      "metadata": {
        "colab": {
          "base_uri": "https://localhost:8080/"
        },
        "id": "fm6pXE5iSgoS",
        "outputId": "ba70b5c2-c6b4-4793-ed6d-0808d83459e7"
      },
      "source": [
        "key = 'test'\n",
        "value=1.321\n",
        "\n",
        "f = '{}={:.1f}'.format(key,value)\n",
        "print(f)\n",
        "\n",
        "## key, value replacing ##\n",
        "f2 = '{1}={0}'.format(key,value)\n",
        "print(f2)"
      ],
      "execution_count": null,
      "outputs": [
        {
          "output_type": "stream",
          "text": [
            "test=1.3\n",
            "1.321=test\n"
          ],
          "name": "stdout"
        }
      ]
    },
    {
      "cell_type": "markdown",
      "metadata": {
        "id": "E9W8led_TQOY"
      },
      "source": [
        "### Interpolation을 통한 format string  \n",
        " - = f-string"
      ]
    },
    {
      "cell_type": "code",
      "metadata": {
        "colab": {
          "base_uri": "https://localhost:8080/"
        },
        "id": "ogUCUMw6TTkr",
        "outputId": "96c99191-6494-44b6-cf79-ea6be793f5da"
      },
      "source": [
        "key='jy'\n",
        "v = 1.321321\n",
        "f = f'{key:<10}={v:.2f}'\n",
        "print(f)"
      ],
      "execution_count": null,
      "outputs": [
        {
          "output_type": "stream",
          "text": [
            "jy        =1.32\n"
          ],
          "name": "stdout"
        }
      ]
    },
    {
      "cell_type": "markdown",
      "metadata": {
        "id": "1WmtxrI30LY9"
      },
      "source": [
        "# 5 복잡한 식 대신 \"도우미 함수\" 사용"
      ]
    },
    {
      "cell_type": "code",
      "metadata": {
        "colab": {
          "base_uri": "https://localhost:8080/"
        },
        "id": "kwj-93gG0OSQ",
        "outputId": "ec27bcf5-d8fe-4abc-e65d-bf20063f196a"
      },
      "source": [
        "from urllib.parse import parse_qs\n",
        "\n",
        "my_value = parse_qs('red=5&blue=0&white=3&green=',keep_blank_values=True)\n",
        "print(repr(my_value))"
      ],
      "execution_count": null,
      "outputs": [
        {
          "output_type": "stream",
          "text": [
            "{'red': ['5'], 'blue': ['0'], 'white': ['3'], 'green': ['']}\n"
          ],
          "name": "stdout"
        }
      ]
    },
    {
      "cell_type": "code",
      "metadata": {
        "colab": {
          "base_uri": "https://localhost:8080/"
        },
        "id": "yuDHKxiS0uLr",
        "outputId": "bafacf89-d3d7-4f65-ddbc-d1bc75b1a28d"
      },
      "source": [
        "red_str = my_value.get('red',[''])\n",
        "print(red_str)\n",
        "\n",
        "red = int(red_str[0]) if red_str[0] else 0\n",
        "print(red)"
      ],
      "execution_count": null,
      "outputs": [
        {
          "output_type": "stream",
          "text": [
            "['5']\n",
            "5\n"
          ],
          "name": "stdout"
        }
      ]
    },
    {
      "cell_type": "markdown",
      "metadata": {
        "id": "WJdBUUOZWStX"
      },
      "source": [
        "# 6 인덱스 대신 <대입을 사용하여 데이터 언패킹> 하라"
      ]
    },
    {
      "cell_type": "code",
      "metadata": {
        "colab": {
          "base_uri": "https://localhost:8080/"
        },
        "id": "-dmzO0D2WW3I",
        "outputId": "ddbe58d7-c1f4-4374-b961-b1695f320bc0"
      },
      "source": [
        "item = ('강아지','고양이')\n",
        "fir, sec = item\n",
        "print(fir)"
      ],
      "execution_count": null,
      "outputs": [
        {
          "output_type": "stream",
          "text": [
            "강아지\n"
          ],
          "name": "stdout"
        }
      ]
    },
    {
      "cell_type": "markdown",
      "metadata": {
        "id": "VrCtcO0BXOQl"
      },
      "source": [
        "- 언패킹을 사용하면 임시 변수를 정의하지 않고도 값을 맞바꿀 수 있다"
      ]
    },
    {
      "cell_type": "code",
      "metadata": {
        "colab": {
          "base_uri": "https://localhost:8080/"
        },
        "id": "6FPJNsPoWmou",
        "outputId": "693c632b-92cd-40d0-be67-0f6cc80bb6ef"
      },
      "source": [
        "def bubble_sort(a):\n",
        "\n",
        "    for _ in range(len(a)):\n",
        "        for i in range(1,len(a)):\n",
        "            if a[i] < a[i-1]: # 나중 것이 이전 것보다 작으면\n",
        "                tmp = a[i]\n",
        "                a[i] = a[i-1]\n",
        "                a[i-1] = tmp\n",
        "\n",
        "names = ['c','z','a','d']\n",
        "\n",
        "bubble_sort(names)\n",
        "\n",
        "print(names)\n",
        "\n",
        "def unpacking_bubble_sort(a):\n",
        "    for _ in range(len(a)):\n",
        "        for i in range(1,len(a)):\n",
        "            if a[i] < a[i-1]:\n",
        "                a[i-1],a[i] = a[i],a[i-1]\n",
        "\n",
        "unpacking_bubble_sort(names)\n",
        "\n",
        "print(names)"
      ],
      "execution_count": null,
      "outputs": [
        {
          "output_type": "stream",
          "text": [
            "['a', 'c', 'd', 'z']\n",
            "['a', 'c', 'd', 'z']\n"
          ],
          "name": "stdout"
        }
      ]
    },
    {
      "cell_type": "code",
      "metadata": {
        "colab": {
          "base_uri": "https://localhost:8080/"
        },
        "id": "Aebxd9zmY_Eb",
        "outputId": "bfbebda5-d972-44a5-eb91-431b0c0e9ed4"
      },
      "source": [
        "company = [('msft',270),('tsla',700),('apple',130)]\n",
        "\n",
        "for i,(name,price) in enumerate(company,1):\n",
        "    print(f'{i}: {name}은 {price} 달러이다')"
      ],
      "execution_count": null,
      "outputs": [
        {
          "output_type": "stream",
          "text": [
            "1: msft은 270 달러이다\n",
            "2: tsla은 700 달러이다\n",
            "3: apple은 130 달러이다\n"
          ],
          "name": "stdout"
        }
      ]
    },
    {
      "cell_type": "markdown",
      "metadata": {
        "id": "M8535du29JHw"
      },
      "source": [
        "# 7 enumerate is better than range"
      ]
    },
    {
      "cell_type": "markdown",
      "metadata": {
        "id": "FX8fGFwB9ZvH"
      },
      "source": [
        "- 리스트를 iteration 하면서 이것의 몇 번째 원소를 처리 중인지 알아야 할 때가 있다."
      ]
    },
    {
      "cell_type": "code",
      "metadata": {
        "colab": {
          "base_uri": "https://localhost:8080/"
        },
        "id": "WiIzadvC9QDO",
        "outputId": "adb4aebf-746e-4fe2-bd91-3d96cac6b74e"
      },
      "source": [
        "flavor_list = ['vanila','choco','strawberry','greentea']\n",
        "for i in range(len(flavor_list)):\n",
        "    flavor = flavor_list[i]\n",
        "    print(f'{i+1}:{flavor}')"
      ],
      "execution_count": null,
      "outputs": [
        {
          "output_type": "stream",
          "text": [
            "1:vanila\n",
            "2:choco\n",
            "3:strawberry\n",
            "4:greentea\n"
          ],
          "name": "stdout"
        }
      ]
    },
    {
      "cell_type": "code",
      "metadata": {
        "colab": {
          "base_uri": "https://localhost:8080/"
        },
        "id": "wGMMIVph9t4b",
        "outputId": "3d1537ac-d063-413d-96f7-68db4904af88"
      },
      "source": [
        "for i, v in enumerate(flavor_list):\n",
        "    print(f'{i+1}:{v}')"
      ],
      "execution_count": null,
      "outputs": [
        {
          "output_type": "stream",
          "text": [
            "1:vanila\n",
            "2:choco\n",
            "3:strawberry\n",
            "4:greentea\n"
          ],
          "name": "stdout"
        }
      ]
    },
    {
      "cell_type": "markdown",
      "metadata": {
        "id": "QBesAf_G96jx"
      },
      "source": [
        "- next를 이용해 다음 원소 가져오기"
      ]
    },
    {
      "cell_type": "code",
      "metadata": {
        "colab": {
          "base_uri": "https://localhost:8080/"
        },
        "id": "e45iVI3K94qU",
        "outputId": "2dd5f7fe-1b2a-4aba-c4e1-2c1a75baa9f9"
      },
      "source": [
        "it = enumerate(flavor_list)\n",
        "print(next(it))\n",
        "print(next(it))"
      ],
      "execution_count": null,
      "outputs": [
        {
          "output_type": "stream",
          "text": [
            "(0, 'vanila')\n",
            "(1, 'choco')\n"
          ],
          "name": "stdout"
        }
      ]
    },
    {
      "cell_type": "markdown",
      "metadata": {
        "id": "sEfV7PDn-JmH"
      },
      "source": [
        "- 어디부터 수를 셀 것인가?"
      ]
    },
    {
      "cell_type": "code",
      "metadata": {
        "colab": {
          "base_uri": "https://localhost:8080/"
        },
        "id": "RRuj-VIU-K4E",
        "outputId": "5931819f-97d0-4afa-a187-6451e5cc71ad"
      },
      "source": [
        "for i, v in enumerate(flavor_list,1):\n",
        "    print(f'{i}:{v}')"
      ],
      "execution_count": null,
      "outputs": [
        {
          "output_type": "stream",
          "text": [
            "1:vanila\n",
            "2:choco\n",
            "3:strawberry\n",
            "4:greentea\n"
          ],
          "name": "stdout"
        }
      ]
    },
    {
      "cell_type": "markdown",
      "metadata": {
        "id": "YO_igSTDPTVF"
      },
      "source": [
        "# 8 여러 이터레이터에 대해 나란히 루프 수행: zip"
      ]
    },
    {
      "cell_type": "code",
      "metadata": {
        "colab": {
          "base_uri": "https://localhost:8080/"
        },
        "id": "YLH455zEPW6I",
        "outputId": "dfeb0251-fd56-456b-f0ef-7c15f1fb67b1"
      },
      "source": [
        "# 여러 이터레이터 나란히 사용:\n",
        "names=['abc','tommy','john']\n",
        "counts = [len(n) for n in names]\n",
        "\n",
        "longest_name=None\n",
        "max_count = 0\n",
        "\n",
        "for i in range(len(names)):\n",
        "    count = counts[i]\n",
        "    if count > max_count:\n",
        "        longest_name = names[i]\n",
        "        max_count = count\n",
        "\n",
        "print(longest_name)"
      ],
      "execution_count": null,
      "outputs": [
        {
          "output_type": "stream",
          "text": [
            "tommy\n"
          ],
          "name": "stdout"
        }
      ]
    },
    {
      "cell_type": "markdown",
      "metadata": {
        "id": "j2Dt5lTUQakv"
      },
      "source": [
        "- 위 코드를 더 깔끔하고 연산적으로 효율적으로 만들어보자 \n",
        "- zip: 둘 이상의 이터레이터를 묶어줌 -> 튜플 반환"
      ]
    },
    {
      "cell_type": "code",
      "metadata": {
        "colab": {
          "base_uri": "https://localhost:8080/"
        },
        "id": "2JHriX3AQd7k",
        "outputId": "9e699d5f-3d33-468e-b233-b1f727b30421"
      },
      "source": [
        "for name, count in zip(names,counts):\n",
        "    if count > max_count:\n",
        "        longest_name = name\n",
        "        max_count = count\n",
        "\n",
        "print(longest_name)"
      ],
      "execution_count": null,
      "outputs": [
        {
          "output_type": "stream",
          "text": [
            "tommy\n"
          ],
          "name": "stdout"
        }
      ]
    },
    {
      "cell_type": "markdown",
      "metadata": {
        "id": "GZw_4DDHRYqZ"
      },
      "source": [
        "- 주의: zip에 두 개의 다른 길이의 이터레이터 (길이:3, 길이:5)가 들어갔다고 해보자. 이 경우, zip은 길이 3 짜리 이터레이터가 종료되면 길이 5 에 대한 이터레이터도 3 바퀴 째에서 종료시킨다. \n",
        "- 위 경우를 처리하기 위해, itertools를 이용하는 것이 바람직하다."
      ]
    },
    {
      "cell_type": "code",
      "metadata": {
        "colab": {
          "base_uri": "https://localhost:8080/"
        },
        "id": "9LRanXI_RqUb",
        "outputId": "c383e2ee-1886-46a5-80cf-49792d057cef"
      },
      "source": [
        "import itertools\n",
        "\n",
        "names.append('testman')\n",
        "names.append('answerman')\n",
        "\n",
        "for name,count in itertools.zip_longest(names,counts):\n",
        "    print(f'{name}:{count}')"
      ],
      "execution_count": null,
      "outputs": [
        {
          "output_type": "stream",
          "text": [
            "abc:3\n",
            "tommy:5\n",
            "john:4\n",
            "testman:None\n",
            "answerman:None\n"
          ],
          "name": "stdout"
        }
      ]
    },
    {
      "cell_type": "markdown",
      "metadata": {
        "id": "bJNG-U5iSC7v"
      },
      "source": [
        "# 9 for, while 루프 뒤에 else 사용 x"
      ]
    },
    {
      "cell_type": "markdown",
      "metadata": {
        "id": "qt3X950nS1fy"
      },
      "source": [
        "- for... else 문을 만들지 말고, 차라리 태스크를 처리하기 위한 도우미 함수를 만들라"
      ]
    },
    {
      "cell_type": "code",
      "metadata": {
        "colab": {
          "base_uri": "https://localhost:8080/"
        },
        "id": "T0jXHzAxSGwI",
        "outputId": "f00fe35e-e57b-4019-fcaf-1df38057e443"
      },
      "source": [
        "a=4\n",
        "b=9\n",
        "for i in range(2,min(a,b)+1):\n",
        "    print('checking...',i)\n",
        "    if a % i == 0 and b % i ==0:\n",
        "        print('서로소 아님')\n",
        "        break\n",
        "else:\n",
        "    print('서로소')"
      ],
      "execution_count": null,
      "outputs": [
        {
          "output_type": "stream",
          "text": [
            "checking... 2\n",
            "checking... 3\n",
            "checking... 4\n",
            "서로소\n"
          ],
          "name": "stdout"
        }
      ]
    },
    {
      "cell_type": "code",
      "metadata": {
        "colab": {
          "base_uri": "https://localhost:8080/"
        },
        "id": "_CSTJeE4ThoX",
        "outputId": "796e7188-04f1-4cd5-a141-de9af0d70fa5"
      },
      "source": [
        "def coprime(a,b):\n",
        "    for i in range(2,min(a,b)+1):\n",
        "        if a%i ==0 and b%i==0:\n",
        "            return False\n",
        "    return True\n",
        "\n",
        "print(coprime(4,9))"
      ],
      "execution_count": null,
      "outputs": [
        {
          "output_type": "stream",
          "text": [
            "True\n"
          ],
          "name": "stdout"
        }
      ]
    },
    {
      "cell_type": "markdown",
      "metadata": {
        "id": "Y7yEa1s1ItDO"
      },
      "source": [
        "# 10 대입식 사용하여 반복 피하기"
      ]
    },
    {
      "cell_type": "markdown",
      "metadata": {
        "id": "caMnlcqyIwZZ"
      },
      "source": [
        "- 대입식(왈러스 연산자): assignment expression  \n",
        "\n",
        "- 일반 대입문 vs 왈러스 연산자  \n",
        "    - 일반 대입문: a = b\n",
        "    - 왈러스 연산자(대입식): a := b\n",
        "\n",
        "대입식은 대입문이 쓰일 수 없는 위치에서 변수에 값을 대입하기 때문에 유용하다.\n"
      ]
    },
    {
      "cell_type": "markdown",
      "metadata": {
        "id": "d2Htba1pKvP6"
      },
      "source": [
        "아래 코드는 반복적으로 count가 들어간 상대적으로 지저분한 코드"
      ]
    },
    {
      "cell_type": "code",
      "metadata": {
        "colab": {
          "base_uri": "https://localhost:8080/"
        },
        "id": "poxrwYTdIuub",
        "outputId": "d3e06a81-bf3d-4511-a732-8bbf145d30cd"
      },
      "source": [
        "def make_lemonade(count):\n",
        "    if count != 0:\n",
        "        print('레모네이드입니다')\n",
        "        count -= 1\n",
        "    else:\n",
        "        print('재고 소진')\n",
        "\n",
        "def out_of_stock():\n",
        "    print('재고 소진')\n",
        "    \n",
        "fresh_fruit = {\n",
        "    '배':10,\n",
        "    '사과':3,\n",
        "    '레몬':5\n",
        "}\n",
        "\n",
        "count = fresh_fruit.get('레몬',0)\n",
        "\n",
        "if count:\n",
        "    make_lemonade(count)\n",
        "else:\n",
        "    out_of_stock()"
      ],
      "execution_count": null,
      "outputs": [
        {
          "output_type": "stream",
          "text": [
            "레모네이드입니다\n"
          ],
          "name": "stdout"
        }
      ]
    },
    {
      "cell_type": "markdown",
      "metadata": {
        "id": "neYwB1GVKzdk"
      },
      "source": [
        "대입 식을 사용하면 아래처럼 비교적 깔끔"
      ]
    },
    {
      "cell_type": "code",
      "metadata": {
        "colab": {
          "base_uri": "https://localhost:8080/",
          "height": 136
        },
        "id": "JxGltFZCK1FN",
        "outputId": "22040b38-a785-4f2d-c0d2-45079535c1d3"
      },
      "source": [
        "if count := fresh_fruit.get('사과',0):\n",
        "    make_lemonade(count)\n",
        "else:\n",
        "    out_of_stock()"
      ],
      "execution_count": null,
      "outputs": [
        {
          "output_type": "error",
          "ename": "SyntaxError",
          "evalue": "ignored",
          "traceback": [
            "\u001b[0;36m  File \u001b[0;32m\"<ipython-input-25-d7e530d468e0>\"\u001b[0;36m, line \u001b[0;32m1\u001b[0m\n\u001b[0;31m    if count := fresh_fruit.get('사과',0):\u001b[0m\n\u001b[0m              ^\u001b[0m\n\u001b[0;31mSyntaxError\u001b[0m\u001b[0;31m:\u001b[0m invalid syntax\n"
          ]
        }
      ]
    },
    {
      "cell_type": "markdown",
      "metadata": {
        "id": "RD-FaZUxMB3x"
      },
      "source": [
        "# 11 리스트 슬라이싱"
      ]
    },
    {
      "cell_type": "code",
      "metadata": {
        "colab": {
          "base_uri": "https://localhost:8080/"
        },
        "id": "XCmQUYM-MHFh",
        "outputId": "bc6b3a79-50fc-413f-89bd-e692696e7cb6"
      },
      "source": [
        "import numpy as np\n",
        "\n",
        "a = list(np.arange(20))\n",
        "print(a[-10:])\n",
        "print(a[:])"
      ],
      "execution_count": null,
      "outputs": [
        {
          "output_type": "stream",
          "text": [
            "[10, 11, 12, 13, 14, 15, 16, 17, 18, 19]\n",
            "[0, 1, 2, 3, 4, 5, 6, 7, 8, 9, 10, 11, 12, 13, 14, 15, 16, 17, 18, 19]\n"
          ],
          "name": "stdout"
        }
      ]
    },
    {
      "cell_type": "markdown",
      "metadata": {
        "id": "eyjzBtDAMhuM"
      },
      "source": [
        "# 12 스트라이드,슬라이스 한 식에 함께 사용 x"
      ]
    },
    {
      "cell_type": "markdown",
      "metadata": {
        "id": "u6QD3-53NK7y"
      },
      "source": [
        "- stride: 일정 간격으로 리스트 내 슬라이싱  \n"
      ]
    },
    {
      "cell_type": "code",
      "metadata": {
        "colab": {
          "base_uri": "https://localhost:8080/"
        },
        "id": "oOyFvYVTMp3g",
        "outputId": "bc50143d-b120-4de7-f620-a916fbbf5a28"
      },
      "source": [
        "odds = a[::2]\n",
        "evens = a[1::2]\n",
        "print(odds)\n",
        "print(evens)"
      ],
      "execution_count": null,
      "outputs": [
        {
          "output_type": "stream",
          "text": [
            "[0, 2, 4, 6, 8, 10, 12, 14, 16, 18]\n",
            "[1, 3, 5, 7, 9, 11, 13, 15, 17, 19]\n"
          ],
          "name": "stdout"
        }
      ]
    },
    {
      "cell_type": "markdown",
      "metadata": {
        "id": "OwxoiEyfM1N4"
      },
      "source": [
        "문자열 뒤집기"
      ]
    },
    {
      "cell_type": "code",
      "metadata": {
        "colab": {
          "base_uri": "https://localhost:8080/",
          "height": 35
        },
        "id": "0xCPsIzFM2FO",
        "outputId": "98e508d8-eb31-47a8-ac76-92091bbf68c4"
      },
      "source": [
        "x = 'testman'\n",
        "y = x[::-1]\n",
        "y"
      ],
      "execution_count": null,
      "outputs": [
        {
          "output_type": "execute_result",
          "data": {
            "application/vnd.google.colaboratory.intrinsic+json": {
              "type": "string"
            },
            "text/plain": [
              "'namtset'"
            ]
          },
          "metadata": {
            "tags": []
          },
          "execution_count": 33
        }
      ]
    },
    {
      "cell_type": "code",
      "metadata": {
        "colab": {
          "base_uri": "https://localhost:8080/",
          "height": 35
        },
        "id": "VrqPnRY2M6me",
        "outputId": "401c0c20-aa8e-44ea-fb90-2b1786e97ea2"
      },
      "source": [
        "x = '사람들'\n",
        "y = x[::-1]\n",
        "y"
      ],
      "execution_count": null,
      "outputs": [
        {
          "output_type": "execute_result",
          "data": {
            "application/vnd.google.colaboratory.intrinsic+json": {
              "type": "string"
            },
            "text/plain": [
              "'들람사'"
            ]
          },
          "metadata": {
            "tags": []
          },
          "execution_count": 34
        }
      ]
    },
    {
      "cell_type": "markdown",
      "metadata": {
        "id": "8a8F9DsVNEXs"
      },
      "source": [
        "슬라이딩과 스트라이드를 함께 쓰면 헷갈림  \n",
        "  --> 각자 사용하기를 권장"
      ]
    },
    {
      "cell_type": "code",
      "metadata": {
        "colab": {
          "base_uri": "https://localhost:8080/"
        },
        "id": "g2mHEbcNNGsl",
        "outputId": "d72179f2-1ce6-43a3-d8b8-806c68f0e9be"
      },
      "source": [
        "print(a[2::2])\n",
        "print(a[5::-2])"
      ],
      "execution_count": null,
      "outputs": [
        {
          "output_type": "stream",
          "text": [
            "[2, 4, 6, 8, 10, 12, 14, 16, 18]\n",
            "[5, 3, 1]\n"
          ],
          "name": "stdout"
        }
      ]
    },
    {
      "cell_type": "code",
      "metadata": {
        "colab": {
          "base_uri": "https://localhost:8080/"
        },
        "id": "kYMrjXqkNZOc",
        "outputId": "5e83e4f8-da3f-4e0b-8229-648d453483be"
      },
      "source": [
        "a = a[::2]\n",
        "a = a[1:]\n",
        "a"
      ],
      "execution_count": null,
      "outputs": [
        {
          "output_type": "execute_result",
          "data": {
            "text/plain": [
              "[2, 4, 6, 8, 10, 12, 14, 16, 18]"
            ]
          },
          "metadata": {
            "tags": []
          },
          "execution_count": 49
        }
      ]
    }
  ]
}